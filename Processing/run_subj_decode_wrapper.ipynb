{
 "cells": [
  {
   "cell_type": "code",
   "execution_count": 1,
   "metadata": {},
   "outputs": [],
   "source": [
    "%load_ext autoreload\n",
    "%autoreload 2"
   ]
  },
  {
   "cell_type": "code",
   "execution_count": 9,
   "metadata": {},
   "outputs": [],
   "source": [
    "import numpy as np\n",
    "# sav_root = '/mnt/neurocube/local/serenceslab/tsheehan/IterativeFitsCD/v3/'\n",
    "sav_root = '../IterativeFits/'\n",
    "\n",
    "subjs = ['UCSD0' + x for x in ['54','60','61','62','63','64']]\n",
    "rois = ['V1','V2','V3','hV4','V3AB','IPS0']\n",
    "\n",
    "t_use_try = np.arange(4,36,2)"
   ]
  },
  {
   "cell_type": "code",
   "execution_count": 4,
   "metadata": {},
   "outputs": [],
   "source": [
    "import run_subj_decoding as RSD"
   ]
  },
  {
   "cell_type": "code",
   "execution_count": 10,
   "metadata": {},
   "outputs": [
    {
     "name": "stdout",
     "output_type": "stream",
     "text": [
      "UCSD054 loaded\n",
      "V1\n",
      "running ../IterativeFits/UCSD054_V1_T4_locTask.pickle\n",
      "2116 -> 264 voxels\n",
      "2116 -> 264 voxels\n",
      "Removing 0 Trials with Nans\n",
      "Task 0.0 1.0 2.0 3.0 4.0 5.0 6.0 7.0 8.0 9.0 10.0 11.0 12.0 13.0 LocTask skipping -1 group1.0 "
     ]
    },
    {
     "name": "stderr",
     "output_type": "stream",
     "text": [
      "/home/AD/tsheehan/anaconda3/envs/myenv/lib/python3.8/site-packages/numpy/lib/arraysetops.py:569: FutureWarning: elementwise comparison failed; returning scalar instead, but in the future will perform elementwise comparison\n",
      "  mask |= (ar1 == a)\n"
     ]
    },
    {
     "name": "stdout",
     "output_type": "stream",
     "text": [
      "Loc running ../IterativeFits/UCSD054_V1_locLoc.pickle\n",
      "54_ORI_Localizer_v1_201902181210 54_ORI_Localizer_v1_201902181231 54_ORI_Localizer_v1_201902181253 54_ORI_Localizer_v1_201902181325 54_ORI_Localizer_v1_201902181333 54_ORI_Localizer_v1_201903111523 54_ORI_Localizer_v1_201903111545 54_ORI_Localizer_v1_201903111621 54_ORI_Localizer_v1_201903111659 54_ORI_Localizer_v2_201906281356 54_ORI_Localizer_v2_201910011925 running ../IterativeFits/UCSD054_V1_T6_locTask.pickle\n",
      "2116 -> 264 voxels\n",
      "2116 -> 264 voxels\n",
      "Removing 0 Trials with Nans\n",
      "Task 0.0 1.0 2.0 3.0 4.0 5.0 6.0 7.0 8.0 9.0 10.0 11.0 12.0 13.0 LocTask skipping -1 group1.0 Loc ../IterativeFits/UCSD054_V1_locLoc.pickle already exists, skipping!\n",
      "running ../IterativeFits/UCSD054_V1_T8_locTask.pickle\n",
      "2116 -> 264 voxels\n",
      "2116 -> 264 voxels\n",
      "Removing 0 Trials with Nans\n",
      "Task 0.0 1.0 2.0 3.0 4.0 5.0 6.0 7.0 8.0 9.0 10.0 11.0 12.0 13.0 LocTask skipping -1 group1.0 Loc ../IterativeFits/UCSD054_V1_locLoc.pickle already exists, skipping!\n",
      "running ../IterativeFits/UCSD054_V1_T10_locTask.pickle\n",
      "2116 -> 264 voxels\n",
      "2116 -> 264 voxels\n",
      "Removing 0 Trials with Nans\n",
      "Task 0.0 1.0 2.0 3.0 4.0 5.0 6.0 7.0 8.0 9.0 10.0 11.0 12.0 13.0 LocTask skipping -1 group1.0 Loc ../IterativeFits/UCSD054_V1_locLoc.pickle already exists, skipping!\n",
      "running ../IterativeFits/UCSD054_V1_T12_locTask.pickle\n",
      "2116 -> 264 voxels\n",
      "2116 -> 264 voxels\n",
      "Removing 0 Trials with Nans\n",
      "Task 0.0 1.0 2.0 3.0 4.0 5.0 6.0 7.0 8.0 9.0 10.0 11.0 12.0 13.0 LocTask skipping -1 group1.0 Loc ../IterativeFits/UCSD054_V1_locLoc.pickle already exists, skipping!\n",
      "running ../IterativeFits/UCSD054_V1_T14_locTask.pickle\n",
      "2116 -> 264 voxels\n",
      "2116 -> 264 voxels\n",
      "Removing 0 Trials with Nans\n",
      "Task 0.0 1.0 2.0 3.0 4.0 5.0 6.0 7.0 8.0 9.0 10.0 11.0 12.0 13.0 LocTask skipping -1 group1.0 Loc ../IterativeFits/UCSD054_V1_locLoc.pickle already exists, skipping!\n",
      "running ../IterativeFits/UCSD054_V1_T16_locTask.pickle\n",
      "2116 -> 264 voxels\n",
      "2116 -> 264 voxels\n",
      "Removing 0 Trials with Nans\n",
      "Task 0.0 1.0 2.0 3.0 4.0 5.0 6.0 7.0 8.0 9.0 10.0 11.0 12.0 13.0 LocTask skipping -1 group1.0 Loc ../IterativeFits/UCSD054_V1_locLoc.pickle already exists, skipping!\n",
      "running ../IterativeFits/UCSD054_V1_T18_locTask.pickle\n",
      "2116 -> 264 voxels\n",
      "2116 -> 264 voxels\n",
      "Removing 0 Trials with Nans\n",
      "Task 0.0 1.0 2.0 3.0 4.0 5.0 6.0 7.0 8.0 9.0 10.0 11.0 12.0 13.0 LocTask skipping -1 group1.0 Loc ../IterativeFits/UCSD054_V1_locLoc.pickle already exists, skipping!\n",
      "running ../IterativeFits/UCSD054_V1_T20_locTask.pickle\n",
      "2116 -> 264 voxels\n",
      "2116 -> 264 voxels\n",
      "Removing 0 Trials with Nans\n",
      "Task 0.0 1.0 2.0 3.0 4.0 5.0 6.0 7.0 8.0 9.0 10.0 11.0 12.0 13.0 LocTask skipping -1 group1.0 Loc ../IterativeFits/UCSD054_V1_locLoc.pickle already exists, skipping!\n",
      "running ../IterativeFits/UCSD054_V1_T22_locTask.pickle\n",
      "2116 -> 264 voxels\n",
      "2116 -> 264 voxels\n",
      "Removing 0 Trials with Nans\n",
      "Task 0.0 1.0 2.0 3.0 4.0 5.0 6.0 7.0 8.0 9.0 10.0 11.0 12.0 13.0 LocTask skipping -1 group1.0 Loc ../IterativeFits/UCSD054_V1_locLoc.pickle already exists, skipping!\n",
      "running ../IterativeFits/UCSD054_V1_T24_locTask.pickle\n",
      "2116 -> 264 voxels\n",
      "2116 -> 264 voxels\n",
      "Removing 0 Trials with Nans\n",
      "Task 0.0 1.0 2.0 3.0 4.0 5.0 6.0 7.0 8.0 9.0 10.0 11.0 12.0 13.0 LocTask skipping -1 group1.0 Loc ../IterativeFits/UCSD054_V1_locLoc.pickle already exists, skipping!\n",
      "running ../IterativeFits/UCSD054_V1_T26_locTask.pickle\n",
      "2116 -> 264 voxels\n",
      "2116 -> 264 voxels\n",
      "Removing 0 Trials with Nans\n",
      "Task 0.0 1.0 2.0 3.0 4.0 5.0 6.0 7.0 8.0 9.0 10.0 11.0 12.0 13.0 LocTask skipping -1 group1.0 Loc ../IterativeFits/UCSD054_V1_locLoc.pickle already exists, skipping!\n",
      "running ../IterativeFits/UCSD054_V1_T28_locTask.pickle\n",
      "2116 -> 264 voxels\n",
      "2116 -> 264 voxels\n",
      "Removing 0 Trials with Nans\n",
      "Task 0.0 1.0 2.0 3.0 4.0 5.0 6.0 7.0 8.0 9.0 10.0 11.0 12.0 13.0 LocTask skipping -1 group1.0 Loc ../IterativeFits/UCSD054_V1_locLoc.pickle already exists, skipping!\n",
      "running ../IterativeFits/UCSD054_V1_T30_locTask.pickle\n",
      "2116 -> 264 voxels\n",
      "2116 -> 264 voxels\n",
      "Removing 0 Trials with Nans\n",
      "Task 0.0 1.0 2.0 3.0 4.0 5.0 6.0 7.0 8.0 9.0 10.0 11.0 12.0 13.0 LocTask skipping -1 group1.0 Loc ../IterativeFits/UCSD054_V1_locLoc.pickle already exists, skipping!\n",
      "running ../IterativeFits/UCSD054_V1_T32_locTask.pickle\n",
      "2116 -> 264 voxels\n",
      "2116 -> 264 voxels\n",
      "Removing 0 Trials with Nans\n",
      "Task 0.0 1.0 2.0 3.0 4.0 5.0 6.0 7.0 8.0 9.0 10.0 11.0 12.0 13.0 LocTask skipping -1 group1.0 Loc ../IterativeFits/UCSD054_V1_locLoc.pickle already exists, skipping!\n",
      "running ../IterativeFits/UCSD054_V1_T34_locTask.pickle\n",
      "2116 -> 264 voxels\n",
      "2116 -> 264 voxels\n",
      "Removing 0 Trials with Nans\n",
      "Task 0.0 1.0 2.0 3.0 4.0 5.0 6.0 7.0 8.0 9.0 10.0 11.0 12.0 13.0 LocTask skipping -1 group1.0 Loc ../IterativeFits/UCSD054_V1_locLoc.pickle already exists, skipping!\n",
      "V2\n",
      "running ../IterativeFits/UCSD054_V2_T4_locTask.pickle\n",
      "2164 -> 270 voxels\n",
      "2164 -> 270 voxels\n",
      "Removing 0 Trials with Nans\n",
      "Task 0.0 1.0 2.0 3.0 4.0 5.0 6.0 7.0 8.0 9.0 10.0 11.0 12.0 13.0 LocTask skipping -1 group1.0 Loc running ../IterativeFits/UCSD054_V2_locLoc.pickle\n",
      "54_ORI_Localizer_v1_201902181210 54_ORI_Localizer_v1_201902181231 54_ORI_Localizer_v1_201902181253 54_ORI_Localizer_v1_201902181325 54_ORI_Localizer_v1_201902181333 54_ORI_Localizer_v1_201903111523 54_ORI_Localizer_v1_201903111545 54_ORI_Localizer_v1_201903111621 54_ORI_Localizer_v1_201903111659 54_ORI_Localizer_v2_201906281356 54_ORI_Localizer_v2_201910011925 running ../IterativeFits/UCSD054_V2_T6_locTask.pickle\n",
      "2164 -> 270 voxels\n",
      "2164 -> 270 voxels\n",
      "Removing 0 Trials with Nans\n",
      "Task 0.0 1.0 2.0 3.0 4.0 5.0 6.0 7.0 8.0 9.0 10.0 11.0 12.0 13.0 LocTask skipping -1 group1.0 Loc ../IterativeFits/UCSD054_V2_locLoc.pickle already exists, skipping!\n",
      "running ../IterativeFits/UCSD054_V2_T8_locTask.pickle\n",
      "2164 -> 270 voxels\n",
      "2164 -> 270 voxels\n",
      "Removing 0 Trials with Nans\n",
      "Task 0.0 1.0 2.0 3.0 4.0 5.0 6.0 7.0 8.0 9.0 10.0 11.0 12.0 13.0 LocTask skipping -1 group1.0 Loc ../IterativeFits/UCSD054_V2_locLoc.pickle already exists, skipping!\n",
      "running ../IterativeFits/UCSD054_V2_T10_locTask.pickle\n",
      "2164 -> 270 voxels\n",
      "2164 -> 270 voxels\n",
      "Removing 0 Trials with Nans\n",
      "Task 0.0 1.0 2.0 3.0 4.0 5.0 6.0 7.0 8.0 9.0 10.0 11.0 12.0 13.0 LocTask skipping -1 group1.0 Loc ../IterativeFits/UCSD054_V2_locLoc.pickle already exists, skipping!\n",
      "running ../IterativeFits/UCSD054_V2_T12_locTask.pickle\n",
      "2164 -> 270 voxels\n",
      "2164 -> 270 voxels\n",
      "Removing 0 Trials with Nans\n",
      "Task 0.0 1.0 2.0 3.0 4.0 5.0 6.0 7.0 8.0 9.0 10.0 11.0 12.0 13.0 LocTask skipping -1 group1.0 Loc ../IterativeFits/UCSD054_V2_locLoc.pickle already exists, skipping!\n",
      "running ../IterativeFits/UCSD054_V2_T14_locTask.pickle\n",
      "2164 -> 270 voxels\n",
      "2164 -> 270 voxels\n",
      "Removing 0 Trials with Nans\n",
      "Task 0.0 1.0 2.0 3.0 4.0 5.0 6.0 7.0 "
     ]
    },
    {
     "ename": "KeyboardInterrupt",
     "evalue": "",
     "output_type": "error",
     "traceback": [
      "\u001b[0;31m---------------------------------------------------------------------------\u001b[0m",
      "\u001b[0;31mKeyboardInterrupt\u001b[0m                         Traceback (most recent call last)",
      "\u001b[0;32m<ipython-input-10-3372989a9eef>\u001b[0m in \u001b[0;36m<module>\u001b[0;34m\u001b[0m\n\u001b[1;32m      1\u001b[0m \u001b[0;32mfor\u001b[0m \u001b[0msubj\u001b[0m \u001b[0;32min\u001b[0m \u001b[0msubjs\u001b[0m\u001b[0;34m[\u001b[0m\u001b[0;34m:\u001b[0m\u001b[0;36m1\u001b[0m\u001b[0;34m]\u001b[0m\u001b[0;34m:\u001b[0m\u001b[0;34m\u001b[0m\u001b[0;34m\u001b[0m\u001b[0m\n\u001b[1;32m      2\u001b[0m \u001b[0;34m\u001b[0m\u001b[0m\n\u001b[0;32m----> 3\u001b[0;31m     \u001b[0mRSD\u001b[0m\u001b[0;34m.\u001b[0m\u001b[0mrun_subj\u001b[0m\u001b[0;34m(\u001b[0m\u001b[0msubj\u001b[0m\u001b[0;34m,\u001b[0m\u001b[0mrois\u001b[0m\u001b[0;34m,\u001b[0m\u001b[0mt_use_try\u001b[0m\u001b[0;34m,\u001b[0m\u001b[0msav_root\u001b[0m\u001b[0;34m,\u001b[0m\u001b[0mparamsT\u001b[0m\u001b[0;34m=\u001b[0m\u001b[0;34m{\u001b[0m\u001b[0;34m'donut'\u001b[0m\u001b[0;34m:\u001b[0m\u001b[0;36m75\u001b[0m\u001b[0;34m,\u001b[0m\u001b[0;34m'anovaP'\u001b[0m\u001b[0;34m:\u001b[0m\u001b[0;36m50\u001b[0m\u001b[0;34m}\u001b[0m\u001b[0;34m,\u001b[0m\u001b[0mjust_IEM\u001b[0m\u001b[0;34m=\u001b[0m\u001b[0;36m1\u001b[0m\u001b[0;34m)\u001b[0m\u001b[0;34m\u001b[0m\u001b[0;34m\u001b[0m\u001b[0m\n\u001b[0m",
      "\u001b[0;32m/mnt/neurocube/local/serenceslab/tsheehan/py_code/SheehanSerences2022/Processing/run_subj_decoding.py\u001b[0m in \u001b[0;36mrun_subj\u001b[0;34m(subj, rois, t_points, sav_root, just_IEM, paramsT, paramsL)\u001b[0m\n\u001b[1;32m     84\u001b[0m             \u001b[0mev_task\u001b[0m\u001b[0;34m[\u001b[0m\u001b[0;34m'G'\u001b[0m\u001b[0;34m]\u001b[0m \u001b[0;34m=\u001b[0m \u001b[0mG_task\u001b[0m\u001b[0;34m\u001b[0m\u001b[0;34m\u001b[0m\u001b[0m\n\u001b[1;32m     85\u001b[0m \u001b[0;34m\u001b[0m\u001b[0m\n\u001b[0;32m---> 86\u001b[0;31m             \u001b[0mfit_task\u001b[0m \u001b[0;34m=\u001b[0m \u001b[0mpd\u001b[0m\u001b[0;34m.\u001b[0m\u001b[0mSeries\u001b[0m\u001b[0;34m(\u001b[0m\u001b[0mCV_fun\u001b[0m\u001b[0;34m(\u001b[0m\u001b[0mdat_task_train\u001b[0m\u001b[0;34m,\u001b[0m\u001b[0mori_task\u001b[0m\u001b[0;34m,\u001b[0m\u001b[0mG_task\u001b[0m\u001b[0;34m)\u001b[0m\u001b[0;34m)\u001b[0m\u001b[0;34m\u001b[0m\u001b[0;34m\u001b[0m\u001b[0m\n\u001b[0m\u001b[1;32m     87\u001b[0m             \u001b[0mfit_task\u001b[0m\u001b[0;34m[\u001b[0m\u001b[0;34m'ev'\u001b[0m\u001b[0;34m]\u001b[0m \u001b[0;34m=\u001b[0m \u001b[0mev_task\u001b[0m\u001b[0;34m\u001b[0m\u001b[0;34m\u001b[0m\u001b[0m\n\u001b[1;32m     88\u001b[0m             \u001b[0mfit_task\u001b[0m\u001b[0;34m[\u001b[0m\u001b[0;34m's'\u001b[0m\u001b[0;34m]\u001b[0m \u001b[0;34m=\u001b[0m \u001b[0msettings\u001b[0m\u001b[0;34m\u001b[0m\u001b[0;34m\u001b[0m\u001b[0m\n",
      "\u001b[0;32m/mnt/neurocube/local/serenceslab/tsheehan/py_code/SheehanSerences2022/Processing/DecodeNoiseCorrelation.py\u001b[0m in \u001b[0;36mfit_CV_IEM\u001b[0;34m(self, samples, ori, G)\u001b[0m\n\u001b[1;32m    167\u001b[0m             \u001b[0mori_train\u001b[0m \u001b[0;34m=\u001b[0m \u001b[0mori\u001b[0m\u001b[0;34m[\u001b[0m\u001b[0mG\u001b[0m\u001b[0;34m!=\u001b[0m\u001b[0mg\u001b[0m\u001b[0;34m]\u001b[0m\u001b[0;34m\u001b[0m\u001b[0;34m\u001b[0m\u001b[0m\n\u001b[1;32m    168\u001b[0m             \u001b[0msamples_test\u001b[0m \u001b[0;34m=\u001b[0m \u001b[0msamples\u001b[0m\u001b[0;34m[\u001b[0m\u001b[0mG\u001b[0m\u001b[0;34m==\u001b[0m\u001b[0mg\u001b[0m\u001b[0;34m,\u001b[0m\u001b[0;34m:\u001b[0m\u001b[0;34m]\u001b[0m\u001b[0;34m\u001b[0m\u001b[0;34m\u001b[0m\u001b[0m\n\u001b[0;32m--> 169\u001b[0;31m             \u001b[0mself\u001b[0m\u001b[0;34m.\u001b[0m\u001b[0mget_residuals\u001b[0m\u001b[0;34m(\u001b[0m\u001b[0msamples_train\u001b[0m\u001b[0;34m,\u001b[0m\u001b[0mori_train\u001b[0m\u001b[0;34m)\u001b[0m\u001b[0;34m\u001b[0m\u001b[0;34m\u001b[0m\u001b[0m\n\u001b[0m\u001b[1;32m    170\u001b[0m             \u001b[0mthis_out\u001b[0m \u001b[0;34m=\u001b[0m \u001b[0mself\u001b[0m\u001b[0;34m.\u001b[0m\u001b[0mdecodeIEM\u001b[0m\u001b[0;34m(\u001b[0m\u001b[0msamples_test\u001b[0m\u001b[0;34m)\u001b[0m\u001b[0;34m\u001b[0m\u001b[0;34m\u001b[0m\u001b[0m\n\u001b[1;32m    171\u001b[0m             \u001b[0;32mif\u001b[0m \u001b[0mself\u001b[0m\u001b[0;34m.\u001b[0m\u001b[0mget_full_IEM_out\u001b[0m\u001b[0;34m:\u001b[0m\u001b[0;34m\u001b[0m\u001b[0;34m\u001b[0m\u001b[0m\n",
      "\u001b[0;32m/mnt/neurocube/local/serenceslab/tsheehan/py_code/SheehanSerences2022/Processing/DecodeNoiseCorrelation.py\u001b[0m in \u001b[0;36mget_residuals\u001b[0;34m(self, samples, ori)\u001b[0m\n\u001b[1;32m     41\u001b[0m         \u001b[0mself\u001b[0m\u001b[0;34m.\u001b[0m\u001b[0mWinv\u001b[0m \u001b[0;34m=\u001b[0m \u001b[0mnp\u001b[0m\u001b[0;34m.\u001b[0m\u001b[0mlinalg\u001b[0m\u001b[0;34m.\u001b[0m\u001b[0mpinv\u001b[0m\u001b[0;34m(\u001b[0m\u001b[0mself\u001b[0m\u001b[0;34m.\u001b[0m\u001b[0mW\u001b[0m\u001b[0;34m)\u001b[0m\u001b[0;34m\u001b[0m\u001b[0;34m\u001b[0m\u001b[0m\n\u001b[1;32m     42\u001b[0m         \u001b[0mself\u001b[0m\u001b[0;34m.\u001b[0m\u001b[0mestimate\u001b[0m \u001b[0;34m=\u001b[0m \u001b[0mself\u001b[0m\u001b[0;34m.\u001b[0m\u001b[0mYTrain\u001b[0m\u001b[0;34m@\u001b[0m\u001b[0mself\u001b[0m\u001b[0;34m.\u001b[0m\u001b[0mW\u001b[0m\u001b[0;34m\u001b[0m\u001b[0;34m\u001b[0m\u001b[0m\n\u001b[0;32m---> 43\u001b[0;31m         \u001b[0mself\u001b[0m\u001b[0;34m.\u001b[0m\u001b[0mnoise\u001b[0m \u001b[0;34m=\u001b[0m \u001b[0msamples\u001b[0m \u001b[0;34m-\u001b[0m \u001b[0mself\u001b[0m\u001b[0;34m.\u001b[0m\u001b[0mestimate\u001b[0m  \u001b[0;31m# residules of linReg (v + mu), TS 5/24/19: matches matlab\u001b[0m\u001b[0;34m\u001b[0m\u001b[0;34m\u001b[0m\u001b[0m\n\u001b[0m\u001b[1;32m     44\u001b[0m \u001b[0;34m\u001b[0m\u001b[0m\n\u001b[1;32m     45\u001b[0m     \u001b[0;32mdef\u001b[0m \u001b[0mestimate_noise_parameters\u001b[0m\u001b[0;34m(\u001b[0m\u001b[0mself\u001b[0m\u001b[0;34m)\u001b[0m\u001b[0;34m:\u001b[0m\u001b[0;34m\u001b[0m\u001b[0;34m\u001b[0m\u001b[0m\n",
      "\u001b[0;31mKeyboardInterrupt\u001b[0m: "
     ]
    }
   ],
   "source": [
    "for subj in subjs[:1]: \n",
    "\n",
    "    RSD.run_subj(subj,rois,t_use_try,sav_root,paramsT={'donut':75,'anovaP':50},just_IEM=1)"
   ]
  }
 ],
 "metadata": {
  "kernelspec": {
   "display_name": "Python 3",
   "language": "python",
   "name": "python3"
  },
  "language_info": {
   "codemirror_mode": {
    "name": "ipython",
    "version": 3
   },
   "file_extension": ".py",
   "mimetype": "text/x-python",
   "name": "python",
   "nbconvert_exporter": "python",
   "pygments_lexer": "ipython3",
   "version": "3.8.5"
  }
 },
 "nbformat": 4,
 "nbformat_minor": 2
}
