{
 "cells": [
  {
   "cell_type": "code",
   "execution_count": 1,
   "metadata": {},
   "outputs": [],
   "source": [
    "%load_ext autoreload\n",
    "%autoreload 2"
   ]
  },
  {
   "cell_type": "code",
   "execution_count": 2,
   "metadata": {},
   "outputs": [],
   "source": [
    "import numpy as np\n",
    "import pandas as pd\n",
    "import matplotlib.pyplot as plt\n",
    "import circ_regression_tools as CR\n",
    "from DecodeNoiseCorrelation import noiseModeling as DNC\n",
    "import seaborn as sns\n",
    "import scipy.stats"
   ]
  },
  {
   "cell_type": "code",
   "execution_count": 3,
   "metadata": {},
   "outputs": [],
   "source": [
    "import matplotlib \n",
    "font = {'family' : 'DejaVu Sans',\n",
    "        'weight' : 'normal',\n",
    "        'size'   : 16}\n",
    "\n",
    "matplotlib.rc('font', **font)"
   ]
  },
  {
   "cell_type": "code",
   "execution_count": 4,
   "metadata": {},
   "outputs": [],
   "source": [
    "# fname = 'weights_deconvolve_2Gamma.pickle'\n",
    "fname = 'weights_deconvolve_2Gamma_v3.pickle'\n",
    "floc = '../DataDeconvolution/'\n",
    "# floc = '/mnt/neurocube/local/serenceslab/tsheehan/py_code/fMRI_Processing/'\n",
    "block_dat = pd.read_pickle(floc+fname)\n",
    "bad_sess = ['201910011846','201907231305'] # sessions with technical issues to be removed"
   ]
  },
  {
   "cell_type": "code",
   "execution_count": 5,
   "metadata": {},
   "outputs": [
    {
     "name": "stdout",
     "output_type": "stream",
     "text": [
      "UCSD054\n",
      "UCSD060\n",
      "UCSD061\n",
      "UCSD062\n",
      "UCSD063\n",
      "UCSD064\n"
     ]
    },
    {
     "name": "stderr",
     "output_type": "stream",
     "text": [
      "<ipython-input-5-012fe3f53823>:4: DeprecationWarning: The default dtype for empty Series will be 'object' instead of 'float64' in a future version. Specify a dtype explicitly to silence this warning.\n",
      "  DAT = pd.Series()\n"
     ]
    }
   ],
   "source": [
    "subjs = [54,60,61,62,63,64]\n",
    "subjs = ['UCSD0' + str(i) for i in subjs]\n",
    "dat_loc = '../DataDeconvolution//'\n",
    "DAT = pd.Series()\n",
    "for subj in subjs:\n",
    "    print(subj)\n",
    "    this_file = dat_loc+subj + '_weights_singleVox_decov.npy'\n",
    "    this_dat = np.load(this_file,allow_pickle=True)\n",
    "    DAT[subj]=this_dat.item()"
   ]
  },
  {
   "cell_type": "code",
   "execution_count": 6,
   "metadata": {},
   "outputs": [],
   "source": [
    "dat=DAT\n",
    "subjs = dat.keys()\n",
    "rois = np.array(['V1', 'V2', 'V3', 'hV4', 'V3AB', 'IPS0'])\n",
    "n_subj = len(subjs)\n",
    "n_roi = len(rois)\n",
    "pi=np.pi"
   ]
  },
  {
   "cell_type": "code",
   "execution_count": 26,
   "metadata": {},
   "outputs": [],
   "source": [
    "def wrap(x):\n",
    "    x[np.abs(x)>90]-=180*np.sign(x[np.abs(x)>90])\n",
    "    return x\n",
    "\n",
    "def ori_plot(l=0,y=0):\n",
    "    if l:\n",
    "        plt.plot([-90,90],[0,0],'c-')\n",
    "    plt.xlim(-90,90)\n",
    "    plt.xticks([-90,-45,0,45,90])\n",
    "    if y:\n",
    "        plt.ylim(-90,90)\n",
    "        plt.yticks([-90,-45,0,45,90])\n",
    "        \n",
    "        \n",
    "def sem_plot(x,y,axs=0,do_line=0,within_E=0,do_sd=False,do_errorbars=False,**args):\n",
    "    # x is assumed to be examples x len(y)\n",
    "    n_ex,n_points =  y.shape\n",
    "    n_ex = np.sum(~np.isnan(y),0)\n",
    "    assert n_points==len(x), 'x not correct shape'\n",
    "    m_y = np.nanmean(y,0)\n",
    "    if within_E:\n",
    "        y_use = (y.T-np.mean(y,1)).T\n",
    "        s_y = np.nanstd(y_use,0)/np.sqrt(n_ex)\n",
    "    else:\n",
    "        s_y = np.nanstd(y,0)/np.sqrt(n_ex)\n",
    "    if do_sd:\n",
    "        s_y = np.std(y,0)\n",
    "    if do_errorbars:\n",
    "        plt.errorbar(x,m_y,s_y,**args)\n",
    "        return\n",
    "    if axs==0:\n",
    "        plt.fill_between(x,m_y-s_y,m_y+s_y,**args)\n",
    "        if do_line:\n",
    "            plt.plot(x,m_y,**args)\n",
    "    else:\n",
    "        axs.fill_between(x,m_y-s_y,m_y+s_y,**args)\n",
    "        axs.plot(x,m_y,**args)\n",
    "        \n",
    "k = np.sqrt(2)/np.exp(-0.5)\n",
    "def DoG(p,x_min_deg):\n",
    "    a,w = p\n",
    "    y = x_min_deg*a*w*k*np.exp(-(w*x_min_deg)**2)\n",
    "    return y\n",
    "\n",
    "def min_fun_dog_neural(p,vals):\n",
    "    x_min,eRecon = vals\n",
    "    bias = DoG(p,x_min)\n",
    "    return np.sqrt(np.sum(wrap(eRecon - DoG(p,x_min) )**2))\n",
    "\n",
    "def std_e(x): return np.std(x)/np.sqrt(len(x))\n",
    "\n",
    "def get_nb(var,nb):\n",
    "    \"\"\" returns d stim at given number back\"\"\"\n",
    "    ang = np.max(var)>180\n",
    "    if nb>0:\n",
    "        this_d =np.concatenate((np.zeros(nb),var[:-nb]-var[nb:]))\n",
    "        bad_d = np.isnan(this_d)\n",
    "        bad_d[:nb] = 1\n",
    "    elif nb<0:\n",
    "        this_d = np.concatenate((var[-nb:]-var[:nb],np.zeros(-nb)))\n",
    "        bad_d = np.isnan(this_d)\n",
    "        bad_d[nb:] = 1\n",
    "    else:\n",
    "        this_d = var\n",
    "        bad_d = np.zeros(len(var))\n",
    "    if ang:\n",
    "        this_d = wrap_ang(this_d)\n",
    "    else:\n",
    "        this_d = wrap(this_d)\n",
    "    return (this_d,bad_d)\n"
   ]
  },
  {
   "cell_type": "code",
   "execution_count": 28,
   "metadata": {},
   "outputs": [],
   "source": [
    "def circ_mean(x):\n",
    "    # along first dimension if multi-dim\n",
    "    rng_90 = np.max(np.abs(x))<=90\n",
    "    if rng_90:\n",
    "        return np.angle(np.sum(np.exp(1j*x/90*pi),0))*90/pi\n",
    "#         return np.angle(np.sum(np.exp(1j*x/90*pi)))*90/pi\n",
    "    else:\n",
    "        return np.angle(np.sum(np.exp(1j*x/90*pi/2),0))*90/pi*2\n",
    "#         return np.angle(np.sum(np.exp(1j*x/90*pi/2)))*90/pi*2\n",
    "    \n",
    "def circ_std(x):\n",
    "    rng_90 = np.max(np.abs(x))<=90\n",
    "    if rng_90:\n",
    "        R = np.abs(np.mean(np.exp(1j*x/90*pi),0))\n",
    "    else:\n",
    "        R = np.abs(np.mean(np.exp(1j*x/90*pi/2),0))\n",
    "    return np.sqrt(-2*np.log(R))\n",
    "\n",
    "\n",
    "def do_bining(bns,overlap,grouping_var,var,var2=[-999],do_gauss=False,want_var=0,flip=0,prior_gauss=[5,0]):\n",
    "    global obs, d_use_rad\n",
    "    n_bns=len(bns)\n",
    "    grouper = np.zeros(len(bns))\n",
    "    if var2[0]!=-999:\n",
    "        do_SDT=1\n",
    "        out = np.zeros((2,len(bns)))\n",
    "        if flip:\n",
    "\n",
    "            grouping_var = np.concatenate((grouping_var,-grouping_var))\n",
    "            var = np.concatenate((var,(var==0)*1))\n",
    "            var2 = np.concatenate((var2,-var2))\n",
    "    else:\n",
    "        do_SDT=0\n",
    "        out = np.zeros(len(bns))\n",
    "        if flip:\n",
    "            grouping_var = np.concatenate((grouping_var,-grouping_var))\n",
    "            if flip==2:\n",
    "                var = np.concatenate((var,var))\n",
    "            elif flip==1:\n",
    "                var = np.concatenate((var,-var))\n",
    "    for i in range(n_bns):\n",
    "        if i<overlap:\n",
    "            these_ind = (grouping_var<=bns[i+overlap]) | (grouping_var>=bns[i-overlap])\n",
    "        elif i>(n_bns-overlap-1):\n",
    "            these_ind = (grouping_var>=bns[i-overlap]) | (grouping_var<=bns[i+overlap-n_bns])\n",
    "        else:\n",
    "            these_ind = (grouping_var>=bns[i-overlap])&(grouping_var<=bns[i+overlap]) # need to figure out \n",
    "        if do_SDT:\n",
    "            obs = var[these_ind].copy()\n",
    "            d_use_rad = var2[these_ind].copy()\n",
    "            if do_gauss:\n",
    "#                 d_use_rad*=90/pi\n",
    "                dat_in =(var[these_ind], var2[these_ind]*90/pi)\n",
    "                fit = scipy.optimize.minimize(min_fun_gauss,prior_gauss,args=(dat_in,),bounds=((0.01,45),(-45,45)) )\n",
    "                out[:,i] = [fit.x[0],-fit.x[1]]\n",
    "            else:\n",
    "                fit = scipy.optimize.minimize(min_fun_SDT,[10,0],bounds=((0.001,500),(-pi/2,pi/2)))\n",
    "                out[:,i] = [fit.x[0],-fit.x[1]/pi*90]\n",
    "                \n",
    "        else:\n",
    "            if want_var==1:\n",
    "                out[i] = np.var(var[these_ind])\n",
    "            elif want_var==3:\n",
    "                out[i] = np.angle(np.mean(np.exp(1j*var[these_ind]/90*pi)))*90/pi\n",
    "            else:\n",
    "                out[i] = np.mean(var[these_ind])\n",
    "    return out\n",
    "\n",
    "def sav_fig(nam):\n",
    "    root = '../Analysis/Figs/'\n",
    "    plt.savefig(root + nam +'.svg',dpi=1200)\n",
    "def d_plot(xl=0):\n",
    "    plt.xlim(-90,90)\n",
    "    plt.xticks([-90,-45,0,45,90])\n",
    "    if xl:\n",
    "        plt.plot([-90,90],[0,0],'k')\n",
    "\n",
    "n_bns = 91\n",
    "overlap = 4 \n",
    "bns = np.linspace(-90,90,n_bns)"
   ]
  },
  {
   "cell_type": "code",
   "execution_count": 9,
   "metadata": {},
   "outputs": [],
   "source": [
    "IEMmodel = DNC(shut_up=True) # still printing a lot of stuff..."
   ]
  },
  {
   "cell_type": "code",
   "execution_count": 10,
   "metadata": {
    "scrolled": false
   },
   "outputs": [
    {
     "name": "stdout",
     "output_type": "stream",
     "text": [
      "UCSD054\n",
      "UCSD060\n",
      "UCSD061\n",
      "UCSD062\n",
      "UCSD063\n",
      "UCSD064\n"
     ]
    }
   ],
   "source": [
    "# decode for each subj, roi\n",
    "dog_bnds = ((-30,30),(.005,.1))\n",
    "bias_all = np.zeros((n_bns,n_subj,n_roi))\n",
    "DoG_all = np.zeros((2,n_subj,n_roi))\n",
    "CC_ALL = pd.DataFrame()\n",
    "\n",
    "\n",
    "do_DNC = 0 # Note that this decoder takes a long time... \n",
    "useIEM = 0\n",
    "n_voxel_use = 150 \n",
    "\n",
    "nb=1\n",
    "if do_DNC:\n",
    "    this_model = DNC()\n",
    "\n",
    "for si,subj in enumerate(subjs):\n",
    "    print(subj)\n",
    "    blocks = block_dat[subj]['block']\n",
    "    bad_ind = np.isin(blocks,bad_sess)\n",
    "    blocks = blocks[~bad_ind]\n",
    "    ori = dat[subj]['ori']\n",
    "    d_ori = np.concatenate(([0]*nb,wrap(ori[:-nb]-ori[nb:])))[~bad_ind]\n",
    "    ori = dat[subj]['ori'][~bad_ind].astype(int)\n",
    "\n",
    "    n_trial= len(ori)\n",
    "    \n",
    "    block_u=np.unique(blocks)\n",
    "    n_sess = len(block_u)\n",
    "    G_task=np.ones(len(blocks))\n",
    "    for i,gi in enumerate(np.arange(0,n_sess,4)):\n",
    "        G_task[np.isin(blocks,block_u[gi:gi+4])] = i\n",
    "\n",
    "    for ri,roi in enumerate(rois):\n",
    "\n",
    "        roi_dat = dat[subj][roi] # stimW, probeW, selective_voxels (trials x voxels)\n",
    "        roi_dat.keys()\n",
    "        \n",
    "        stimW = roi_dat['stimW'][~bad_ind,:] # note this dat is in order of selective voxels..\n",
    "        stimW=stimW[:,~np.any(np.isnan(stimW),0)]\n",
    "        stimW=stimW[:,-n_voxel_use:]\n",
    "        \n",
    "        probeW = roi_dat['probeW'][~bad_ind,:]\n",
    "        probeW=probeW[:,~np.any(np.isnan(probeW),0)]\n",
    "        probeW=probeW[:,-n_voxel_use:]\n",
    "        \n",
    "        if do_DNC:\n",
    "            outStim = this_model.fit_CV(stimW,ori,G_task)\n",
    "            dec_stim = outStim['estBNC']\n",
    "            decoders = (('stim',dec_stim),)\n",
    "        else:\n",
    "            if useIEM==1:\n",
    "                dec_stim = IEMmodel.fit_CV_IEM(stimW,ori,G_task)['estIEM']\n",
    "            else:\n",
    "                dec_stim = CR.circ_regr_cval(stimW,ori,G_task)\n",
    "                \n",
    "\n",
    "        cc_this= CR.circ_corr_coef(ori,dec_stim)\n",
    "        E = wrap(dec_stim-ori)\n",
    "        this_t = scipy.stats.ttest_ind(E[d_ori<0],E[d_ori>0])\n",
    "\n",
    "        bias_all[:,si,ri] = do_bining(bns,overlap*2,d_ori,E,flip=1,want_var=3)\n",
    "\n",
    "        vals = (d_ori,E)\n",
    "        this_fit = scipy.optimize.minimize(min_fun_dog_neural,(0,.03),args = (vals,),bounds=dog_bnds)\n",
    "\n",
    "        if not this_fit.success:\n",
    "            this_fit = scipy.optimize.minimize(min_fun_dog_neural,(0,0.025),args=(vals,),method='Nelder-Mead')\n",
    "            if (not this_fit.success): #or (np.abs(this_fit.x[0])>100):\n",
    "                this_fit.x = [np.nan, np.nan]\n",
    "        DoG_all[:,si,ri] = this_fit.x\n",
    "\n",
    "        CC_ALL = CC_ALL.append({'subj':subj,'roi':roi,'cc':cc_this,'t_d_ori':this_t[0],'p_d_ori':this_t[1],'DoG_amp':this_fit.x[0]},ignore_index=1)"
   ]
  },
  {
   "cell_type": "code",
   "execution_count": 14,
   "metadata": {},
   "outputs": [
    {
     "data": {
      "image/png": "[encoded data removed]",
      "text/plain": [
       "<Figure size 576x288 with 2 Axes>"
      ]
     },
     "metadata": {
      "needs_background": "light"
     },
     "output_type": "display_data"
    }
   ],
   "source": [
    "roi_order = ['V1','V2','V3','hV4','V3AB','IPS0']\n",
    "plt.figure(figsize=(8,4))\n",
    "plt.subplot(1,2,1)\n",
    "dv=0\n",
    "roi_view = np.arange(0,6)\n",
    "p_this=[]\n",
    "for ri in roi_view:\n",
    "    cc_this = CC_ALL.cc.values\n",
    "    these_ind = (CC_ALL.roi==rois[ri])&(CC_ALL.cc>.01)\n",
    "    p_this.append(scipy.stats.ttest_1samp(CC_ALL[these_ind].DoG_amp,0)[1])\n",
    "#     plt.plot(bns,np.mean(bias_all[:,cc_this>0,ri,dv],1),linewidth=2)\n",
    "    if ri<3:\n",
    "        sem_plot(bns,bias_all[:,:,ri].T,alpha=.5)\n",
    "# plt.legend(rois[roi_view])\n",
    "ori_plot(1)\n",
    "plt.xlabel('$\\Delta\\\\Theta$')\n",
    "plt.ylabel('Bias (deg)')\n",
    "# plt.title('Deconvolved Activity')\n",
    "\n",
    "plt.subplot(1,2,2)\n",
    "\n",
    "sns.barplot(data=CC_ALL,\n",
    "            x='roi',y='DoG_amp',ci=68,dodge=.1,alpha=.5,order=roi_order)\n",
    "sns.swarmplot(data=CC_ALL,\n",
    "            x='roi',y='DoG_amp',dodge=.1,alpha=.5,order=roi_order)\n",
    "# sns.swarmplot(data=CC_ALL[(CC_ALL.decoder==['stim','probe','ensamble'][dv])&(np.isin(CC_ALL.roi,rois[roi_view]))&(np.abs(CC_ALL.DoG_amp)<200)&(CC_ALL.cc>0)],x='roi',y='DoG_amp',dodge=.1)\n",
    "plt.plot([-.5,len(roi_view)-.5],[0,0],'k--')\n",
    "p01 = (np.array(p_this)<.01)\n",
    "p05 = (np.array(p_this)<.05)&~p01\n",
    "plt.plot(np.where(p05)[0],[10]*np.sum(p05),'k*')\n",
    "plt.plot(np.where(p01)[0],[10]*np.sum(p01),'ks')\n",
    "plt.tight_layout()\n",
    "plt.ylabel('DoG Amp (deg)')\n",
    "plt.xlabel('ROI')\n",
    "\n",
    "plt.xticks(rotation=90)\n",
    "# sav_fig('Deconve N-1_clean_DNC')\n",
    "plt.show()"
   ]
  },
  {
   "cell_type": "code",
   "execution_count": 16,
   "metadata": {},
   "outputs": [
    {
     "name": "stdout",
     "output_type": "stream",
     "text": [
      "t(5)=-5.78, p=0.0022\n"
     ]
    }
   ],
   "source": [
    "bias_x_roi = CC_ALL[np.isin(CC_ALL.roi,rois[roi_view])].groupby('roi').DoG_amp.mean().values\n",
    "this_t= scipy.stats.ttest_1samp(bias_x_roi,0)\n",
    "print('t(%d)=%.2f, p=%.4f' %(len(bias_x_roi)-1,*this_t))"
   ]
  },
  {
   "cell_type": "code",
   "execution_count": 17,
   "metadata": {},
   "outputs": [
    {
     "name": "stderr",
     "output_type": "stream",
     "text": [
      "<ipython-input-17-70b6e38167e6>:2: DeprecationWarning: The default dtype for empty Series will be 'object' instead of 'float64' in a future version. Specify a dtype explicitly to silence this warning.\n",
      "  DEC_ALL = pd.Series()\n",
      "<ipython-input-17-70b6e38167e6>:30: DeprecationWarning: The default dtype for empty Series will be 'object' instead of 'float64' in a future version. Specify a dtype explicitly to silence this warning.\n",
      "  dec_roi = pd.Series()\n"
     ]
    },
    {
     "name": "stdout",
     "output_type": "stream",
     "text": [
      "UCSD054\n",
      "0.0 1.0 2.0 3.0 4.0 5.0 6.0 7.0 8.0 9.0 10.0 11.0 12.0 0.0 1.0 2.0 3.0 4.0 5.0 6.0 7.0 8.0 9.0 10.0 11.0 12.0 "
     ]
    },
    {
     "name": "stderr",
     "output_type": "stream",
     "text": [
      "<ipython-input-17-70b6e38167e6>:30: DeprecationWarning: The default dtype for empty Series will be 'object' instead of 'float64' in a future version. Specify a dtype explicitly to silence this warning.\n",
      "  dec_roi = pd.Series()\n"
     ]
    },
    {
     "name": "stdout",
     "output_type": "stream",
     "text": [
      "0.0 1.0 2.0 3.0 4.0 5.0 6.0 7.0 8.0 9.0 10.0 11.0 12.0 0.0 1.0 2.0 3.0 4.0 5.0 6.0 7.0 8.0 9.0 10.0 11.0 12.0 "
     ]
    },
    {
     "name": "stderr",
     "output_type": "stream",
     "text": [
      "<ipython-input-17-70b6e38167e6>:30: DeprecationWarning: The default dtype for empty Series will be 'object' instead of 'float64' in a future version. Specify a dtype explicitly to silence this warning.\n",
      "  dec_roi = pd.Series()\n"
     ]
    },
    {
     "name": "stdout",
     "output_type": "stream",
     "text": [
      "0.0 1.0 2.0 3.0 4.0 5.0 6.0 7.0 8.0 9.0 10.0 11.0 12.0 0.0 1.0 2.0 3.0 4.0 5.0 6.0 7.0 8.0 9.0 10.0 11.0 12.0 "
     ]
    },
    {
     "name": "stderr",
     "output_type": "stream",
     "text": [
      "<ipython-input-17-70b6e38167e6>:30: DeprecationWarning: The default dtype for empty Series will be 'object' instead of 'float64' in a future version. Specify a dtype explicitly to silence this warning.\n",
      "  dec_roi = pd.Series()\n"
     ]
    },
    {
     "name": "stdout",
     "output_type": "stream",
     "text": [
      "0.0 1.0 2.0 3.0 4.0 5.0 6.0 7.0 8.0 9.0 10.0 11.0 12.0 0.0 1.0 2.0 3.0 4.0 5.0 6.0 7.0 8.0 9.0 10.0 11.0 12.0 "
     ]
    },
    {
     "name": "stderr",
     "output_type": "stream",
     "text": [
      "<ipython-input-17-70b6e38167e6>:30: DeprecationWarning: The default dtype for empty Series will be 'object' instead of 'float64' in a future version. Specify a dtype explicitly to silence this warning.\n",
      "  dec_roi = pd.Series()\n"
     ]
    },
    {
     "name": "stdout",
     "output_type": "stream",
     "text": [
      "0.0 1.0 2.0 3.0 4.0 5.0 6.0 7.0 8.0 9.0 10.0 11.0 12.0 0.0 1.0 2.0 3.0 4.0 5.0 6.0 7.0 8.0 9.0 10.0 11.0 12.0 "
     ]
    },
    {
     "name": "stderr",
     "output_type": "stream",
     "text": [
      "<ipython-input-17-70b6e38167e6>:30: DeprecationWarning: The default dtype for empty Series will be 'object' instead of 'float64' in a future version. Specify a dtype explicitly to silence this warning.\n",
      "  dec_roi = pd.Series()\n"
     ]
    },
    {
     "name": "stdout",
     "output_type": "stream",
     "text": [
      "0.0 1.0 2.0 3.0 4.0 5.0 6.0 7.0 8.0 9.0 10.0 11.0 12.0 0.0 1.0 2.0 3.0 4.0 5.0 6.0 7.0 8.0 9.0 10.0 11.0 12.0 UCSD060\n",
      "0.0 1.0 2.0 3.0 4.0 5.0 "
     ]
    },
    {
     "name": "stderr",
     "output_type": "stream",
     "text": [
      "<ipython-input-17-70b6e38167e6>:30: DeprecationWarning: The default dtype for empty Series will be 'object' instead of 'float64' in a future version. Specify a dtype explicitly to silence this warning.\n",
      "  dec_roi = pd.Series()\n"
     ]
    },
    {
     "name": "stdout",
     "output_type": "stream",
     "text": [
      "6.0 7.0 8.0 9.0 10.0 11.0 12.0 0.0 1.0 2.0 3.0 4.0 5.0 6.0 7.0 8.0 9.0 10.0 11.0 12.0 "
     ]
    },
    {
     "name": "stderr",
     "output_type": "stream",
     "text": [
      "<ipython-input-17-70b6e38167e6>:30: DeprecationWarning: The default dtype for empty Series will be 'object' instead of 'float64' in a future version. Specify a dtype explicitly to silence this warning.\n",
      "  dec_roi = pd.Series()\n"
     ]
    },
    {
     "name": "stdout",
     "output_type": "stream",
     "text": [
      "0.0 1.0 2.0 3.0 4.0 5.0 6.0 7.0 8.0 9.0 10.0 11.0 12.0 0.0 1.0 2.0 3.0 4.0 5.0 6.0 7.0 8.0 9.0 10.0 11.0 12.0 "
     ]
    },
    {
     "name": "stderr",
     "output_type": "stream",
     "text": [
      "<ipython-input-17-70b6e38167e6>:30: DeprecationWarning: The default dtype for empty Series will be 'object' instead of 'float64' in a future version. Specify a dtype explicitly to silence this warning.\n",
      "  dec_roi = pd.Series()\n"
     ]
    },
    {
     "name": "stdout",
     "output_type": "stream",
     "text": [
      "0.0 1.0 2.0 3.0 4.0 5.0 6.0 7.0 8.0 9.0 10.0 11.0 12.0 0.0 1.0 2.0 3.0 4.0 5.0 6.0 7.0 8.0 9.0 10.0 11.0 12.0 "
     ]
    },
    {
     "name": "stderr",
     "output_type": "stream",
     "text": [
      "<ipython-input-17-70b6e38167e6>:30: DeprecationWarning: The default dtype for empty Series will be 'object' instead of 'float64' in a future version. Specify a dtype explicitly to silence this warning.\n",
      "  dec_roi = pd.Series()\n"
     ]
    },
    {
     "name": "stdout",
     "output_type": "stream",
     "text": [
      "0.0 1.0 2.0 3.0 4.0 5.0 6.0 7.0 8.0 9.0 10.0 11.0 12.0 0.0 1.0 2.0 3.0 4.0 5.0 6.0 7.0 8.0 9.0 10.0 11.0 12.0 "
     ]
    },
    {
     "name": "stderr",
     "output_type": "stream",
     "text": [
      "<ipython-input-17-70b6e38167e6>:30: DeprecationWarning: The default dtype for empty Series will be 'object' instead of 'float64' in a future version. Specify a dtype explicitly to silence this warning.\n",
      "  dec_roi = pd.Series()\n"
     ]
    },
    {
     "name": "stdout",
     "output_type": "stream",
     "text": [
      "0.0 1.0 2.0 3.0 4.0 5.0 6.0 7.0 8.0 9.0 10.0 11.0 12.0 0.0 1.0 2.0 3.0 4.0 5.0 6.0 7.0 8.0 9.0 10.0 11.0 12.0 "
     ]
    },
    {
     "name": "stderr",
     "output_type": "stream",
     "text": [
      "<ipython-input-17-70b6e38167e6>:30: DeprecationWarning: The default dtype for empty Series will be 'object' instead of 'float64' in a future version. Specify a dtype explicitly to silence this warning.\n",
      "  dec_roi = pd.Series()\n"
     ]
    },
    {
     "name": "stdout",
     "output_type": "stream",
     "text": [
      "0.0 1.0 2.0 3.0 4.0 5.0 6.0 7.0 8.0 9.0 10.0 11.0 12.0 0.0 1.0 2.0 3.0 4.0 5.0 6.0 7.0 8.0 9.0 10.0 11.0 12.0 UCSD061\n",
      "0.0 1.0 2.0 3.0 4.0 5.0 6.0 7.0 8.0 9.0 10.0 11.0 "
     ]
    },
    {
     "name": "stderr",
     "output_type": "stream",
     "text": [
      "<ipython-input-17-70b6e38167e6>:30: DeprecationWarning: The default dtype for empty Series will be 'object' instead of 'float64' in a future version. Specify a dtype explicitly to silence this warning.\n",
      "  dec_roi = pd.Series()\n"
     ]
    },
    {
     "name": "stdout",
     "output_type": "stream",
     "text": [
      "0.0 1.0 2.0 3.0 4.0 5.0 6.0 7.0 8.0 9.0 10.0 11.0 "
     ]
    },
    {
     "name": "stderr",
     "output_type": "stream",
     "text": [
      "<ipython-input-17-70b6e38167e6>:30: DeprecationWarning: The default dtype for empty Series will be 'object' instead of 'float64' in a future version. Specify a dtype explicitly to silence this warning.\n",
      "  dec_roi = pd.Series()\n"
     ]
    },
    {
     "name": "stdout",
     "output_type": "stream",
     "text": [
      "0.0 1.0 2.0 3.0 4.0 5.0 6.0 7.0 8.0 9.0 10.0 11.0 0.0 1.0 2.0 3.0 4.0 5.0 6.0 7.0 8.0 9.0 10.0 11.0 "
     ]
    },
    {
     "name": "stderr",
     "output_type": "stream",
     "text": [
      "<ipython-input-17-70b6e38167e6>:30: DeprecationWarning: The default dtype for empty Series will be 'object' instead of 'float64' in a future version. Specify a dtype explicitly to silence this warning.\n",
      "  dec_roi = pd.Series()\n"
     ]
    },
    {
     "name": "stdout",
     "output_type": "stream",
     "text": [
      "0.0 1.0 2.0 3.0 4.0 5.0 6.0 7.0 8.0 9.0 10.0 11.0 0.0 1.0 2.0 3.0 4.0 5.0 6.0 7.0 8.0 9.0 10.0 11.0 "
     ]
    },
    {
     "name": "stderr",
     "output_type": "stream",
     "text": [
      "<ipython-input-17-70b6e38167e6>:30: DeprecationWarning: The default dtype for empty Series will be 'object' instead of 'float64' in a future version. Specify a dtype explicitly to silence this warning.\n",
      "  dec_roi = pd.Series()\n"
     ]
    },
    {
     "name": "stdout",
     "output_type": "stream",
     "text": [
      "0.0 1.0 2.0 3.0 4.0 5.0 6.0 7.0 8.0 9.0 10.0 11.0 0.0 1.0 2.0 3.0 4.0 5.0 6.0 7.0 8.0 9.0 10.0 11.0 "
     ]
    },
    {
     "name": "stderr",
     "output_type": "stream",
     "text": [
      "<ipython-input-17-70b6e38167e6>:30: DeprecationWarning: The default dtype for empty Series will be 'object' instead of 'float64' in a future version. Specify a dtype explicitly to silence this warning.\n",
      "  dec_roi = pd.Series()\n"
     ]
    },
    {
     "name": "stdout",
     "output_type": "stream",
     "text": [
      "0.0 1.0 2.0 3.0 4.0 5.0 6.0 7.0 8.0 9.0 10.0 11.0 0.0 1.0 2.0 3.0 4.0 5.0 6.0 7.0 8.0 9.0 10.0 11.0 "
     ]
    },
    {
     "name": "stderr",
     "output_type": "stream",
     "text": [
      "<ipython-input-17-70b6e38167e6>:30: DeprecationWarning: The default dtype for empty Series will be 'object' instead of 'float64' in a future version. Specify a dtype explicitly to silence this warning.\n",
      "  dec_roi = pd.Series()\n"
     ]
    },
    {
     "name": "stdout",
     "output_type": "stream",
     "text": [
      "0.0 1.0 2.0 3.0 4.0 5.0 6.0 7.0 8.0 9.0 10.0 11.0 0.0 1.0 2.0 3.0 4.0 5.0 6.0 7.0 8.0 9.0 10.0 11.0 UCSD062\n",
      "0.0 1.0 2.0 3.0 4.0 5.0 6.0 7.0 8.0 9.0 10.0 11.0 "
     ]
    },
    {
     "name": "stderr",
     "output_type": "stream",
     "text": [
      "<ipython-input-17-70b6e38167e6>:30: DeprecationWarning: The default dtype for empty Series will be 'object' instead of 'float64' in a future version. Specify a dtype explicitly to silence this warning.\n",
      "  dec_roi = pd.Series()\n"
     ]
    },
    {
     "name": "stdout",
     "output_type": "stream",
     "text": [
      "0.0 1.0 2.0 3.0 4.0 5.0 6.0 7.0 8.0 9.0 10.0 11.0 "
     ]
    },
    {
     "name": "stderr",
     "output_type": "stream",
     "text": [
      "<ipython-input-17-70b6e38167e6>:30: DeprecationWarning: The default dtype for empty Series will be 'object' instead of 'float64' in a future version. Specify a dtype explicitly to silence this warning.\n",
      "  dec_roi = pd.Series()\n"
     ]
    },
    {
     "name": "stdout",
     "output_type": "stream",
     "text": [
      "0.0 1.0 2.0 3.0 4.0 5.0 6.0 7.0 8.0 9.0 10.0 11.0 0.0 1.0 2.0 3.0 4.0 5.0 6.0 7.0 8.0 9.0 10.0 11.0 "
     ]
    },
    {
     "name": "stderr",
     "output_type": "stream",
     "text": [
      "<ipython-input-17-70b6e38167e6>:30: DeprecationWarning: The default dtype for empty Series will be 'object' instead of 'float64' in a future version. Specify a dtype explicitly to silence this warning.\n",
      "  dec_roi = pd.Series()\n"
     ]
    },
    {
     "name": "stdout",
     "output_type": "stream",
     "text": [
      "0.0 1.0 2.0 3.0 4.0 5.0 6.0 7.0 8.0 9.0 10.0 11.0 0.0 1.0 2.0 3.0 4.0 5.0 6.0 7.0 8.0 9.0 10.0 11.0 "
     ]
    },
    {
     "name": "stderr",
     "output_type": "stream",
     "text": [
      "<ipython-input-17-70b6e38167e6>:30: DeprecationWarning: The default dtype for empty Series will be 'object' instead of 'float64' in a future version. Specify a dtype explicitly to silence this warning.\n",
      "  dec_roi = pd.Series()\n"
     ]
    },
    {
     "name": "stdout",
     "output_type": "stream",
     "text": [
      "0.0 1.0 2.0 3.0 4.0 5.0 6.0 7.0 8.0 9.0 10.0 11.0 0.0 1.0 2.0 3.0 4.0 5.0 6.0 7.0 8.0 9.0 10.0 11.0 "
     ]
    },
    {
     "name": "stderr",
     "output_type": "stream",
     "text": [
      "<ipython-input-17-70b6e38167e6>:30: DeprecationWarning: The default dtype for empty Series will be 'object' instead of 'float64' in a future version. Specify a dtype explicitly to silence this warning.\n",
      "  dec_roi = pd.Series()\n"
     ]
    },
    {
     "name": "stdout",
     "output_type": "stream",
     "text": [
      "0.0 1.0 2.0 3.0 4.0 5.0 6.0 7.0 8.0 9.0 10.0 11.0 0.0 1.0 2.0 3.0 4.0 5.0 6.0 7.0 8.0 9.0 10.0 11.0 "
     ]
    },
    {
     "name": "stderr",
     "output_type": "stream",
     "text": [
      "<ipython-input-17-70b6e38167e6>:30: DeprecationWarning: The default dtype for empty Series will be 'object' instead of 'float64' in a future version. Specify a dtype explicitly to silence this warning.\n",
      "  dec_roi = pd.Series()\n"
     ]
    },
    {
     "name": "stdout",
     "output_type": "stream",
     "text": [
      "0.0 1.0 2.0 3.0 4.0 5.0 6.0 7.0 8.0 9.0 10.0 11.0 0.0 1.0 2.0 3.0 4.0 5.0 6.0 7.0 8.0 9.0 10.0 11.0 UCSD063\n",
      "0.0 1.0 2.0 3.0 4.0 5.0 6.0 7.0 8.0 9.0 10.0 "
     ]
    },
    {
     "name": "stderr",
     "output_type": "stream",
     "text": [
      "<ipython-input-17-70b6e38167e6>:30: DeprecationWarning: The default dtype for empty Series will be 'object' instead of 'float64' in a future version. Specify a dtype explicitly to silence this warning.\n",
      "  dec_roi = pd.Series()\n"
     ]
    },
    {
     "name": "stdout",
     "output_type": "stream",
     "text": [
      "0.0 1.0 2.0 3.0 4.0 5.0 6.0 7.0 8.0 9.0 10.0 "
     ]
    },
    {
     "name": "stderr",
     "output_type": "stream",
     "text": [
      "<ipython-input-17-70b6e38167e6>:30: DeprecationWarning: The default dtype for empty Series will be 'object' instead of 'float64' in a future version. Specify a dtype explicitly to silence this warning.\n",
      "  dec_roi = pd.Series()\n"
     ]
    },
    {
     "name": "stdout",
     "output_type": "stream",
     "text": [
      "0.0 1.0 2.0 3.0 4.0 5.0 6.0 7.0 8.0 9.0 10.0 0.0 1.0 2.0 3.0 4.0 5.0 6.0 7.0 8.0 9.0 10.0 "
     ]
    },
    {
     "name": "stderr",
     "output_type": "stream",
     "text": [
      "<ipython-input-17-70b6e38167e6>:30: DeprecationWarning: The default dtype for empty Series will be 'object' instead of 'float64' in a future version. Specify a dtype explicitly to silence this warning.\n",
      "  dec_roi = pd.Series()\n"
     ]
    },
    {
     "name": "stdout",
     "output_type": "stream",
     "text": [
      "0.0 1.0 2.0 3.0 4.0 5.0 6.0 7.0 8.0 9.0 10.0 0.0 1.0 2.0 3.0 4.0 5.0 6.0 7.0 8.0 9.0 10.0 "
     ]
    },
    {
     "name": "stderr",
     "output_type": "stream",
     "text": [
      "<ipython-input-17-70b6e38167e6>:30: DeprecationWarning: The default dtype for empty Series will be 'object' instead of 'float64' in a future version. Specify a dtype explicitly to silence this warning.\n",
      "  dec_roi = pd.Series()\n"
     ]
    },
    {
     "name": "stdout",
     "output_type": "stream",
     "text": [
      "0.0 1.0 2.0 3.0 4.0 5.0 6.0 7.0 8.0 9.0 10.0 0.0 1.0 2.0 3.0 4.0 5.0 6.0 7.0 8.0 9.0 10.0 "
     ]
    },
    {
     "name": "stderr",
     "output_type": "stream",
     "text": [
      "<ipython-input-17-70b6e38167e6>:30: DeprecationWarning: The default dtype for empty Series will be 'object' instead of 'float64' in a future version. Specify a dtype explicitly to silence this warning.\n",
      "  dec_roi = pd.Series()\n"
     ]
    },
    {
     "name": "stdout",
     "output_type": "stream",
     "text": [
      "0.0 1.0 2.0 3.0 4.0 5.0 6.0 7.0 8.0 9.0 10.0 0.0 1.0 2.0 3.0 4.0 5.0 6.0 7.0 8.0 9.0 10.0 "
     ]
    },
    {
     "name": "stderr",
     "output_type": "stream",
     "text": [
      "<ipython-input-17-70b6e38167e6>:30: DeprecationWarning: The default dtype for empty Series will be 'object' instead of 'float64' in a future version. Specify a dtype explicitly to silence this warning.\n",
      "  dec_roi = pd.Series()\n"
     ]
    },
    {
     "name": "stdout",
     "output_type": "stream",
     "text": [
      "0.0 1.0 2.0 3.0 4.0 5.0 6.0 7.0 8.0 9.0 10.0 0.0 1.0 2.0 3.0 4.0 5.0 6.0 7.0 8.0 9.0 10.0 UCSD064\n",
      "0.0 1.0 2.0 3.0 4.0 5.0 6.0 7.0 8.0 "
     ]
    },
    {
     "name": "stderr",
     "output_type": "stream",
     "text": [
      "<ipython-input-17-70b6e38167e6>:30: DeprecationWarning: The default dtype for empty Series will be 'object' instead of 'float64' in a future version. Specify a dtype explicitly to silence this warning.\n",
      "  dec_roi = pd.Series()\n"
     ]
    },
    {
     "name": "stdout",
     "output_type": "stream",
     "text": [
      "9.0 10.0 11.0 12.0 0.0 1.0 2.0 3.0 4.0 5.0 6.0 7.0 8.0 9.0 10.0 11.0 12.0 "
     ]
    },
    {
     "name": "stderr",
     "output_type": "stream",
     "text": [
      "<ipython-input-17-70b6e38167e6>:30: DeprecationWarning: The default dtype for empty Series will be 'object' instead of 'float64' in a future version. Specify a dtype explicitly to silence this warning.\n",
      "  dec_roi = pd.Series()\n"
     ]
    },
    {
     "name": "stdout",
     "output_type": "stream",
     "text": [
      "0.0 1.0 2.0 3.0 4.0 5.0 6.0 7.0 8.0 9.0 10.0 11.0 12.0 0.0 1.0 2.0 3.0 4.0 5.0 6.0 7.0 8.0 9.0 10.0 11.0 12.0 "
     ]
    },
    {
     "name": "stderr",
     "output_type": "stream",
     "text": [
      "<ipython-input-17-70b6e38167e6>:30: DeprecationWarning: The default dtype for empty Series will be 'object' instead of 'float64' in a future version. Specify a dtype explicitly to silence this warning.\n",
      "  dec_roi = pd.Series()\n"
     ]
    },
    {
     "name": "stdout",
     "output_type": "stream",
     "text": [
      "0.0 1.0 2.0 3.0 4.0 5.0 6.0 7.0 8.0 9.0 10.0 11.0 12.0 0.0 1.0 2.0 3.0 4.0 5.0 6.0 7.0 8.0 9.0 10.0 11.0 12.0 "
     ]
    },
    {
     "name": "stderr",
     "output_type": "stream",
     "text": [
      "<ipython-input-17-70b6e38167e6>:30: DeprecationWarning: The default dtype for empty Series will be 'object' instead of 'float64' in a future version. Specify a dtype explicitly to silence this warning.\n",
      "  dec_roi = pd.Series()\n"
     ]
    },
    {
     "name": "stdout",
     "output_type": "stream",
     "text": [
      "0.0 1.0 2.0 3.0 4.0 5.0 6.0 7.0 8.0 9.0 10.0 11.0 12.0 0.0 1.0 2.0 3.0 4.0 5.0 6.0 7.0 8.0 9.0 10.0 11.0 12.0 "
     ]
    },
    {
     "name": "stderr",
     "output_type": "stream",
     "text": [
      "<ipython-input-17-70b6e38167e6>:30: DeprecationWarning: The default dtype for empty Series will be 'object' instead of 'float64' in a future version. Specify a dtype explicitly to silence this warning.\n",
      "  dec_roi = pd.Series()\n"
     ]
    },
    {
     "name": "stdout",
     "output_type": "stream",
     "text": [
      "0.0 1.0 2.0 3.0 4.0 5.0 6.0 7.0 8.0 9.0 10.0 11.0 12.0 0.0 1.0 2.0 3.0 4.0 5.0 6.0 7.0 8.0 9.0 10.0 11.0 12.0 "
     ]
    },
    {
     "name": "stderr",
     "output_type": "stream",
     "text": [
      "<ipython-input-17-70b6e38167e6>:30: DeprecationWarning: The default dtype for empty Series will be 'object' instead of 'float64' in a future version. Specify a dtype explicitly to silence this warning.\n",
      "  dec_roi = pd.Series()\n"
     ]
    },
    {
     "name": "stdout",
     "output_type": "stream",
     "text": [
      "0.0 1.0 2.0 3.0 4.0 5.0 6.0 7.0 8.0 9.0 10.0 11.0 12.0 0.0 1.0 2.0 3.0 4.0 5.0 6.0 7.0 8.0 9.0 10.0 11.0 12.0 "
     ]
    }
   ],
   "source": [
    "# decode all first, all decoders and stim epochs\n",
    "DEC_ALL = pd.Series()\n",
    "CC_DEC = pd.DataFrame()\n",
    "this_model = DNC()\n",
    "for si,subj in enumerate(subjs):\n",
    "    print(subj)\n",
    "    blocks = block_dat[subj]['block']\n",
    "    n_trial = len(blocks)\n",
    "    n_block = n_trial//17\n",
    "    \n",
    "    bad_ind = np.isin(blocks,bad_sess)\n",
    "    blocks = blocks[~bad_ind]\n",
    "    ori_og = dat[subj]['ori']\n",
    "    trial = np.concatenate([np.arange(17) for i in range(n_block)])\n",
    "#     d_ori = np.concatenate(([0]*nb,wrap(ori[:-nb]-ori[nb:])))[~bad_ind]\n",
    "    \n",
    "    ori = dat[subj]['ori'][~bad_ind].astype(int) # just remove bad blocks at this stage, bad trials later\n",
    "    ori_n_1 = np.concatenate(([0],ori[:-1])).astype(int)\n",
    "\n",
    "    n_trial= len(ori)\n",
    "    \n",
    "    block_u=np.unique(blocks)\n",
    "    n_sess = len(block_u)\n",
    "    G_task=np.ones(len(blocks))\n",
    "    for i,gi in enumerate(np.arange(0,n_sess,4)):\n",
    "        G_task[np.isin(blocks,block_u[gi:gi+4])] = i\n",
    "        \n",
    "    dec_subj = pd.Series({'ori':ori,'G':G_task,'trial':trial,'ori_og':ori_og,'bad_ind':bad_ind})\n",
    "    for ri,roi in enumerate(rois):\n",
    "        dec_roi = pd.Series()\n",
    "        roi_dat = dat[subj][roi] # stimW, probeW, selective_voxels (trials x voxels)\n",
    "        roi_dat.keys()\n",
    "        \n",
    "        stimW = roi_dat['stimW'][~bad_ind,:] # note this dat is in order of selective voxels..\n",
    "        stimW=stimW[:,~np.any(np.isnan(stimW),0)]\n",
    "#         stimW=stimW[:,-n_voxel_use:]\n",
    "        \n",
    "        probeW = roi_dat['probeW'][~bad_ind,:]\n",
    "        probeW=probeW[:,~np.any(np.isnan(probeW),0)]\n",
    "#         probeW=probeW[:,-n_voxel_use:]\n",
    "        \n",
    "        for ni, theseW in enumerate((stimW,probeW)):\n",
    "            stim_nam = ('stim','probe')[ni]\n",
    "            dec_IEM = IEMmodel.fit_CV_IEM(theseW,ori,G_task)\n",
    "            dec_reg = CR.circ_regr_cval(theseW,ori,G_task)\n",
    "#             outStim = this_model.fit_CV(theseW,ori,G_task)\n",
    "#             dec_DNC = outStim['estBNC']\n",
    "            \n",
    "            dec_roi[stim_nam] = pd.Series({'decIEM':dec_IEM['estIEM'],'uncIEM':dec_IEM['uncIEM'],\n",
    "                                  'decReg':dec_reg})#,'dec_BNC':outStim['estBNC'],'est_BNC':outStim['uncBNC']})\n",
    "            \n",
    "            cc_IEM= CR.circ_corr_coef(ori,dec_IEM['estIEM']) \n",
    "            cc_reg= CR.circ_corr_coef(ori,dec_reg) \n",
    "#             cc_BNC= CR.circ_corr_coef(ori,outStim['estBNC']) \n",
    "            \n",
    "            CC_DEC = CC_DEC.append({'subj':subj,'roi':roi,'stim':stim_nam,'dec':'IEM','cc':cc_IEM},ignore_index=1)\n",
    "            CC_DEC = CC_DEC.append({'subj':subj,'roi':roi,'stim':stim_nam,'dec':'Reg','cc':cc_reg},ignore_index=1)\n",
    "#             CC_DEC = CC_DEC.append({'subj':subj,'roi':roi,'stim':stim_nam,'dec':'\"BNC\"','cc':cc_BNC},ignore_index=1)\n",
    "        dec_subj[roi]=dec_roi\n",
    "    DEC_ALL[subj]=dec_subj"
   ]
  },
  {
   "cell_type": "code",
   "execution_count": 19,
   "metadata": {},
   "outputs": [
    {
     "name": "stdout",
     "output_type": "stream",
     "text": [
      "% bad voxels  0.10972234328617975\n"
     ]
    }
   ],
   "source": [
    "p_bad_all = np.zeros((n_subj,n_roi))\n",
    "for si,subj in enumerate(subjs):\n",
    "    for ri,roi in enumerate(rois):\n",
    "        roi_dat = dat[subj][roi]\n",
    "        p_bad = np.mean(np.isnan(roi_dat['stimW'][0,:]))\n",
    "        p_bad_all[si,ri] = p_bad\n",
    "print('% bad voxels ', np.mean(p_bad_all))"
   ]
  },
  {
   "cell_type": "markdown",
   "metadata": {},
   "source": [
    "# Performance of different decoders x ROIs"
   ]
  },
  {
   "cell_type": "code",
   "execution_count": 20,
   "metadata": {},
   "outputs": [
    {
     "data": {
      "image/png": "[encoded data removed]",
      "text/plain": [
       "<Figure size 432x288 with 2 Axes>"
      ]
     },
     "metadata": {
      "needs_background": "light"
     },
     "output_type": "display_data"
    }
   ],
   "source": [
    "yl = (0,.65)\n",
    "for i in range(2):\n",
    "    plt.subplot(1,2,i+1)\n",
    "    stim_want = ('stim','probe')[i]\n",
    "    sns.pointplot(x='roi',y='cc',hue='dec',data=CC_DEC[CC_DEC.stim==stim_want],ci=68,dodge=.1)\n",
    "#     sns.swarmplot(x='roi',y='cc',hue='dec',data=CC_DEC[CC_DEC.stim==stim_want],dodge=.1)\n",
    "    plt.ylim(yl)\n",
    "#     sns.swarmplot(x='roi',y='cc',hue='dec',data=CC_DEC[CC_DEC.stim==stim_want],dodge=.1)\n",
    "plt.tight_layout()\n",
    "plt.show()"
   ]
  },
  {
   "cell_type": "code",
   "execution_count": 21,
   "metadata": {},
   "outputs": [
    {
     "data": {
      "image/png": "[encoded data removed]",
      "text/plain": [
       "<Figure size 432x288 with 1 Axes>"
      ]
     },
     "metadata": {
      "needs_background": "light"
     },
     "output_type": "display_data"
    }
   ],
   "source": [
    "sns.barplot(x='roi',y='cc',data=CC_DEC[(CC_DEC.stim=='stim')&(CC_DEC.dec=='IEM')],ci=68,alpha=.6)\n",
    "sns.swarmplot(x='roi',y='cc',data=CC_DEC[(CC_DEC.stim=='stim')&(CC_DEC.dec=='IEM')],alpha=.8,edgecolor=None)\n",
    "plt.ylim(0,0.5)\n",
    "plt.xticks(rotation=90)\n",
    "plt.xlabel('')\n",
    "plt.ylabel('$Circ_{corr}$')\n",
    "plt.tick_params(axis='both', which='both', length=0)\n",
    "plt.show()"
   ]
  },
  {
   "cell_type": "code",
   "execution_count": 24,
   "metadata": {},
   "outputs": [
    {
     "name": "stdout",
     "output_type": "stream",
     "text": [
      "mean:0.05 +/-0.0217 \tT:2.06 p=0.047\n",
      "mean:0.16 +/-0.0505 \tT:2.84 p=0.018\n",
      "mean:0.19 +/-0.0669 \tT:2.61 p=0.024\n",
      "mean:0.03 +/-0.0139 \tT:2.08 p=0.046\n",
      "mean:0.12 +/-0.0338 \tT:3.11 p=0.013\n",
      "mean:0.03 +/-0.0143 \tT:1.90 p=0.058\n"
     ]
    }
   ],
   "source": [
    "for ri,roi in enumerate(rois):\n",
    "    these_val = CC_DEC[(CC_DEC.stim=='stim')&(CC_DEC.dec=='IEM')&(CC_DEC.roi==roi)].cc.values\n",
    "    this_t = scipy.stats.ttest_1samp(these_val,0)\n",
    "    this_p = this_t[1]/2\n",
    "    print('mean:%.2f +/-%.4f \\tT:%.2f p=%.3f' %(np.mean(these_val),std_e(these_val),this_t[0],this_p))"
   ]
  },
  {
   "cell_type": "code",
   "execution_count": 29,
   "metadata": {},
   "outputs": [],
   "source": [
    "df = 0 \n",
    "overlap=8\n",
    "roi_show = ['V1','V2','V3','V3AB','hV4','IPS0']\n",
    "n_backs = [-1,1]\n",
    "n_n_back = len(n_backs)\n",
    "\n",
    "bias_all_nb = np.zeros((n_n_back,n_subj,n_roi,n_bns)) # n_back_get\n",
    "DoG_all_nb = np.zeros((n_n_back,n_subj,n_roi,2))\n",
    "DoG_nb_df = pd.DataFrame()\n",
    "stim_use = ['stim','probe'][0]\n",
    "\n",
    "dec_use = ['decIEM','decReg','dec_BNC'][0]\n",
    "for si,subj in enumerate(subjs):\n",
    "    blocks = block_dat[subj]['block']\n",
    "    bad_ind = np.isin(blocks,bad_sess)\n",
    "    ori_og = dat[subj]['ori']\n",
    "    ori = DEC_ALL[subj]['ori']\n",
    "    trial = DEC_ALL[subj]['trial']\n",
    "    for ri,roi in enumerate(roi_show):\n",
    "        dec_stim = DEC_ALL[subj][roi][stim_use][dec_use]\n",
    "        E = wrap(dec_stim-ori)\n",
    "        for ni,nb in enumerate(n_backs):\n",
    "            this_d,bad_d = get_nb(ori_og,nb)\n",
    "            if nb<0:\n",
    "                ind_use = (trial<16)\n",
    "            else:\n",
    "                ind_use = (trial>=nb)\n",
    "            these_ind_use = ind_use[~bad_ind]\n",
    "            d_ori = this_d[ind_use&~bad_ind]\n",
    "            \n",
    "            bias_all_nb[ni,si,ri] = do_bining(bns,overlap,d_ori,E[these_ind_use],flip=df,want_var=3)\n",
    "            vals = (d_ori,E[these_ind_use])\n",
    "            \n",
    "            this_fit = scipy.optimize.minimize(min_fun_dog_neural,(0,.025),args = (vals,),bounds=dog_bnds)\n",
    "            \n",
    "            DoG_all_nb[ni,si,ri,:] = this_fit.x\n",
    "            DoG_nb_df=DoG_nb_df.append({'subj':subj,'roi':roi,'DoGAmp':this_fit.x[0],'nb':nb},ignore_index=1)\n",
    "        "
   ]
  },
  {
   "cell_type": "markdown",
   "metadata": {},
   "source": [
    "# Bias x ROI, Figure 3B"
   ]
  },
  {
   "cell_type": "code",
   "execution_count": 30,
   "metadata": {},
   "outputs": [
    {
     "name": "stdout",
     "output_type": "stream",
     "text": [
      "V1 t=-10.51 p=0.000\n",
      "V2 t=-11.18 p=0.000\n",
      "V3 t=-3.56 p=0.008\n",
      "hV4 t=-3.20 p=0.012\n",
      "V3AB t=-2.14 p=0.043\n",
      "IPS0 t=-0.27 p=0.399\n"
     ]
    },
    {
     "data": {
      "image/png": "[encoded data removed]",
      "text/plain": [
       "<Figure size 576x288 with 2 Axes>"
      ]
     },
     "metadata": {
      "needs_background": "light"
     },
     "output_type": "display_data"
    }
   ],
   "source": [
    "sns.set_palette('mako',6)\n",
    "roi_show = ['V1','V2','V3','V3AB','hV4','IPS0']\n",
    "nb=1\n",
    "this_ind = np.where(np.array(n_backs)==nb)[0][0]\n",
    "yl = (-30,30)\n",
    "plt.figure(figsize=(8,4))\n",
    "plt.subplot(1,2,1)\n",
    "for ri in range(4):\n",
    "    sem_plot(bns,bias_all_nb[this_ind,:,ri],alpha=.4)\n",
    "d_plot(1)\n",
    "plt.ylabel('Bias (deg)')\n",
    "plt.ylim(yl)\n",
    "plt.xlabel('$\\Delta \\\\Theta$')\n",
    "plt.subplot(1,2,2)\n",
    "sns.barplot(x='roi',y='DoGAmp',data=DoG_nb_df[DoG_nb_df.nb==nb],ci=68,alpha=.6,hue_order=roi_show)\n",
    "sns.swarmplot(x='roi',y='DoGAmp',data=DoG_nb_df[DoG_nb_df.nb==nb],hue_order=roi_show,edgecolor=None)\n",
    "# plt.xticks(np.arange(6),roi_order,rotation=90)\n",
    "# plt.plot([-.5,5.5],[0,0],'k--')\n",
    "# plt.ylabel('DoG Amp (deg)')\n",
    "plt.xticks(rotation=90)\n",
    "plt.xlabel('')\n",
    "plt.ylabel('DoG Amp (deg)')\n",
    "plt.tick_params(axis='both', which='both', length=0)\n",
    "plt.plot([-.5,5.5],[0,0],color='gray')\n",
    "plt.ylim(-25,5)\n",
    "# plt.xticks()\n",
    "plt.tight_layout()\n",
    "\n",
    "# plt.show()\n",
    "# sav_fig('DoubleGammaBias_no_flip_wDots')\n",
    "\n",
    "\n",
    "for ri,this_roi in enumerate(roi_order):\n",
    "    these_vals = DoG_all_nb[this_ind,:,ri,0]\n",
    "    this_t = scipy.stats.ttest_1samp(these_vals,0)\n",
    "    this_p = this_t[1]/2 # one tailed test\n",
    "    print('%s t=%.2f p=%.3f' %(this_roi,this_t[0],this_p))"
   ]
  },
  {
   "cell_type": "code",
   "execution_count": null,
   "metadata": {},
   "outputs": [],
   "source": []
  }
 ],
 "metadata": {
  "kernelspec": {
   "display_name": "Python 3",
   "language": "python",
   "name": "python3"
  },
  "language_info": {
   "codemirror_mode": {
    "name": "ipython",
    "version": 3
   },
   "file_extension": ".py",
   "mimetype": "text/x-python",
   "name": "python",
   "nbconvert_exporter": "python",
   "pygments_lexer": "ipython3",
   "version": "3.8.5"
  }
 },
 "nbformat": 4,
 "nbformat_minor": 4
}
