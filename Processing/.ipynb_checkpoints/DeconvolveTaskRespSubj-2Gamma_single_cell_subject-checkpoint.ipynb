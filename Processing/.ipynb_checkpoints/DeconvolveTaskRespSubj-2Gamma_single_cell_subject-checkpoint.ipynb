{
 "cells": [
  {
   "cell_type": "code",
   "execution_count": 1,
   "metadata": {},
   "outputs": [],
   "source": [
    "%load_ext autoreload\n",
    "%autoreload 2"
   ]
  },
  {
   "cell_type": "code",
   "execution_count": 2,
   "metadata": {},
   "outputs": [],
   "source": [
    "import numpy as np\n",
    "import pandas as pd\n",
    "import matplotlib.pyplot as plt\n",
    "import DeconvSubj\n",
    "\n",
    "from multiprocessing import Pool\n",
    "from scipy.optimize import minimize\n",
    "from scipy.stats import gamma\n",
    "import fit_IEM_v2 as IEM\n",
    "\n",
    "from sklearn.linear_model import LinearRegression\n",
    "import os"
   ]
  },
  {
   "cell_type": "code",
   "execution_count": 3,
   "metadata": {},
   "outputs": [],
   "source": [
    "def voxel_selection(samples,ev,params):\n",
    "    # samples (voxels x trials)\n",
    "    ind_all = np.arange(samples.shape[0])\n",
    "    # donut selection\n",
    "    donut_voxels = IEM.get_donut_mask(samples,ev,params['donut']) #minimun percentile\n",
    "    donut_trials = (ev.d1.values==1)\n",
    "    # anova selection\n",
    "    samples_donut = samples[donut_voxels,:]\n",
    "    samples_donut = samples_donut[:,donut_trials]\n",
    "    ind_all_donut=ind_all[donut_voxels]\n",
    "    \n",
    "    ori = ev[donut_trials].d0.values\n",
    "    ori_anova = np.round((ori-10)/2,-1)\n",
    "    f_stats= IEM.anova1(samples_donut,ori_anova)\n",
    "    n_keep = int(np.round(np.sum(donut_voxels)*params['anovaP']/100))\n",
    "    ind_keep = np.argsort(f_stats)[-n_keep:]\n",
    "    ind_all_both = ind_all_donut[ind_keep]\n",
    "#     print('%d -> %d voxels' %(samples.shape[0],len(ind_all_both)))\n",
    "    return ind_all_both, ind_all_donut\n",
    "\n",
    "\n",
    "\n",
    "def gamma2(p):\n",
    "    a1,loc1,amp1,a2,loc2,amp2 = p\n",
    "    return amp1*gamma.pdf(t,a1,loc1)-amp2*gamma.pdf(t,a2,loc2)\n",
    "\n",
    "def err_HRF(p,HRF):\n",
    "    this_fit = gamma2(p)\n",
    "    this_err = np.sum((HRF-this_fit)**2)\n",
    "    return this_err\n",
    "\n",
    "def wrap(x):\n",
    "    x[np.abs(x)>90]-=180*np.sign(x[np.abs(x)>90])\n",
    "    return x\n"
   ]
  },
  {
   "cell_type": "markdown",
   "metadata": {},
   "source": [
    "# This notebook performs two forms of deconvolution estimates\n",
    "1. Fitting single voxel HRFs\n",
    "2. Fitting ROI wide HRFs"
   ]
  },
  {
   "cell_type": "markdown",
   "metadata": {},
   "source": [
    "The next section performs the single voxel fitting. This operation takes a VERY long time. (Like an hour per ROI).\n",
    "\n",
    "It is currently set up so the notebook can be copied and individual subjects can be run in parallel.\n",
    "The steps are: \n",
    "1. Perform stick based deconvolution to get HRF estimates at single voxel level\n",
    "1. Get 'selective' voxels using localizer data to match voxels used in main analyses\n",
    "1. Fit double gamma functions to estimated HRFs that are orientation selective\n",
    "1. Create design matrix for each stim/probe and estimate single trial responses\n",
    "1. Save out fit response amplitudes to be used for decoding in separate notebook"
   ]
  },
  {
   "cell_type": "code",
   "execution_count": 4,
   "metadata": {},
   "outputs": [
    {
     "name": "stderr",
     "output_type": "stream",
     "text": [
      "<ipython-input-4-024253a339ff>:12: DeprecationWarning: The default dtype for empty Series will be 'object' instead of 'float64' in a future version. Specify a dtype explicitly to silence this warning.\n",
      "  DAT_LOC = pd.Series()\n",
      "<ipython-input-4-024253a339ff>:20: DeprecationWarning: The default dtype for empty Series will be 'object' instead of 'float64' in a future version. Specify a dtype explicitly to silence this warning.\n",
      "  this_dat = pd.Series()\n"
     ]
    }
   ],
   "source": [
    "subjs = [54,60,61,62,63,64]\n",
    "subjs = ['UCSD0' + str(i) for i in subjs]\n",
    "\n",
    "subj = subjs[0] # need to iterate over [0,5]\n",
    "roi_want=['V1','V2','V3','hV4','V3AB','IPS0']\n",
    "# roi_want=['V2']\n",
    "nTRModel = 32\n",
    "\n",
    "\n",
    "data_root = '../EpochedData/'\n",
    "\n",
    "DAT_LOC = pd.Series()\n",
    "for roi in roi_want:\n",
    "    f_loc = data_root + subj + '_DAT_LOC_' + roi + '.npy'\n",
    "    this_d = np.load(f_loc,allow_pickle=False)\n",
    "    DAT_LOC[roi] = this_d\n",
    "\n",
    "f_loc = data_root + subj + '_EV_LOC.csv'\n",
    "d = pd.read_csv(f_loc,index_col=0)\n",
    "this_dat = pd.Series()\n",
    "this_dat['EV_LOC'] = d\n",
    "this_dat['DAT_LOC'] = DAT_LOC\n"
   ]
  },
  {
   "cell_type": "code",
   "execution_count": 12,
   "metadata": {},
   "outputs": [
    {
     "name": "stdout",
     "output_type": "stream",
     "text": [
      "Loading Data...\n",
      "Generating Design Matrix...\n",
      "Fitting!\n"
     ]
    }
   ],
   "source": [
    "# do stick deconvolution\n",
    "HRF = DeconvSubj.deconvSubj(subj,roi_want,nTRModel)"
   ]
  },
  {
   "cell_type": "code",
   "execution_count": 13,
   "metadata": {},
   "outputs": [],
   "source": [
    "# get selective voxels, match settings for main task\n",
    "paramsT={'donut':50,'anovaP':75}\n",
    "ev_loc = this_dat.EV_LOC.copy()\n",
    "donut_ev = ev_loc.d1.values==1\n",
    "voxel_keep_roi = {}\n",
    "for roi in roi_want:\n",
    "    dat_loc = this_dat['DAT_LOC'][roi]\n",
    "    vox_use,_ = voxel_selection(dat_loc,ev_loc,paramsT)\n",
    "    voxel_keep_roi[roi] = vox_use"
   ]
  },
  {
   "cell_type": "code",
   "execution_count": 14,
   "metadata": {
    "scrolled": true
   },
   "outputs": [
    {
     "name": "stdout",
     "output_type": "stream",
     "text": [
      "V1\n"
     ]
    },
    {
     "name": "stderr",
     "output_type": "stream",
     "text": [
      "<ipython-input-14-6bd934922532>:15: DeprecationWarning: The default dtype for empty Series will be 'object' instead of 'float64' in a future version. Specify a dtype explicitly to silence this warning.\n",
      "  HRF_FITS = pd.Series()\n"
     ]
    },
    {
     "name": "stdout",
     "output_type": "stream",
     "text": [
      "V2\n",
      "V3\n",
      "hV4\n",
      "V3AB\n",
      "IPS0\n"
     ]
    }
   ],
   "source": [
    "## fit double gamma function to voxels\n",
    "\n",
    "p=(5,0,2.4,10,3,2)\n",
    "\n",
    "def fit_voxel(this_hrf):\n",
    "    out = minimize(err_HRF,p,(this_hrf,))\n",
    "    fit = gamma2(out.x)\n",
    "    return (out.x,fit,out.fun)\n",
    "\n",
    "t=np.arange(0,nTRModel)\n",
    "n_param = 6\n",
    "n_roi = len(roi_want)\n",
    "\n",
    "p=(5,0,2.4,10,3,2)\n",
    "HRF_FITS = pd.Series()\n",
    "\n",
    "for ri,roi in enumerate(roi_want):\n",
    "    print(roi)\n",
    "    these_vox = voxel_keep_roi[roi]\n",
    "    n_voxel = len(these_vox)\n",
    "    hrf_fit_this = np.zeros((n_voxel,2,n_param))\n",
    "    fits_this = np.zeros((n_voxel,2,nTRModel))\n",
    "    rss_this = np.zeros((n_voxel,2))\n",
    "    for feat_model in range(2):\n",
    "        these_hrfs = HRF[feat_model][roi]\n",
    "        iterable = [(these_hrfs[:,vox],) for vox in these_vox]\n",
    "        with Pool(20) as pl:\n",
    "            out0 = pl.starmap(fit_voxel,iterable)\n",
    "#              out0 = pl.map(fit_voxel,these_vox)\n",
    "\n",
    "        for voxel_i in range(n_voxel):\n",
    "            this_out = out0[voxel_i]\n",
    "            hrf_fit_this[voxel_i,feat_model,:] = this_out[0]\n",
    "            fits_this[voxel_i,feat_model,:] = this_out[1]\n",
    "            rss_this[voxel_i,feat_model] = this_out[2]\n",
    "\n",
    "    _out_this = pd.Series({'params':hrf_fit_this,'fits':fits_this,'rss':rss_this})\n",
    "    HRF_FITS[roi] = _out_this\n"
   ]
  },
  {
   "cell_type": "code",
   "execution_count": 12,
   "metadata": {},
   "outputs": [
    {
     "name": "stdout",
     "output_type": "stream",
     "text": [
      "884 (20384, 2943)\n",
      "V2\n",
      "0 1 2 3 4 5 6 7 8 9 10 11 12 13 14 15 16 17 18 19 20 21 22 23 24 25 26 27 28 29 30 31 32 33 34 35 36 37 38 39 40 41 42 43 44 45 46 47 48 49 50 51 52 53 54 55 56 57 58 59 60 61 62 63 64 65 66 67 68 69 70 71 72 73 74 75 76 77 78 79 80 81 82 83 84 85 86 87 88 89 90 91 92 93 94 95 96 97 98 99 100 101 102 103 104 105 106 107 108 109 110 111 112 113 114 115 116 117 118 119 120 121 122 123 124 125 126 127 128 129 130 131 132 133 134 135 136 137 138 139 140 141 142 143 144 145 146 147 148 149 150 151 152 153 154 155 156 157 158 159 160 161 162 163 164 165 166 167 168 169 170 171 172 173 174 175 176 177 178 179 180 181 182 183 184 185 186 187 188 189 190 191 192 193 194 195 196 197 198 199 200 201 202 203 204 205 206 207 208 209 210 211 212 213 214 215 216 217 218 219 220 221 222 223 224 225 226 227 228 229 230 231 232 233 234 235 236 237 238 239 240 241 242 243 244 245 246 247 248 249 250 251 252 253 254 255 256 257 258 259 260 261 262 263 264 265 266 267 268 269 270 271 272 273 274 275 276 277 278 279 280 281 282 283 284 285 286 287 288 289 290 291 292 293 294 295 296 297 298 299 300 301 302 303 304 305 306 307 308 309 310 311 312 313 314 315 316 317 318 319 320 321 322 323 324 325 326 327 328 329 330 331 332 333 334 335 336 337 338 339 340 341 342 343 344 345 346 347 348 349 350 351 352 353 354 355 356 357 358 359 360 361 362 363 364 365 366 367 368 369 370 371 372 373 374 375 376 377 378 379 380 381 382 383 384 385 386 387 388 389 390 391 392 393 394 395 396 397 398 399 400 401 402 403 404 405 406 407 408 409 410 411 412 413 414 415 416 417 418 419 420 421 422 423 424 425 426 427 428 429 430 431 432 433 434 435 436 437 438 439 440 441 442 443 444 445 446 447 448 449 450 451 452 453 454 455 456 457 458 459 460 461 462 463 464 465 466 467 468 469 470 471 472 473 474 475 476 477 478 479 480 481 482 483 484 485 486 487 488 489 490 491 492 493 494 495 496 497 498 499 500 501 502 503 504 505 506 507 508 509 510 511 512 513 514 515 516 517 518 519 520 521 522 523 524 525 526 527 528 529 530 531 532 533 534 535 536 537 538 539 540 541 542 543 544 545 546 547 548 549 550 551 552 553 554 555 556 557 558 559 560 561 562 563 564 565 566 567 568 569 570 571 572 573 574 575 576 577 578 579 580 581 582 583 584 585 586 587 588 589 590 591 592 593 594 595 596 597 598 599 600 601 602 603 604 605 606 607 608 609 610 611 612 613 614 615 616 617 618 619 620 621 622 623 624 625 626 627 628 629 630 631 632 633 634 635 636 637 638 639 640 641 "
     ]
    }
   ],
   "source": [
    "# create design matrix and estimate activity on each trial using GLM\n",
    "nb=1\n",
    "trialPerRun = 17\n",
    "weights_all = {}\n",
    "\n",
    "tim = '/mnt/neurocube/local/serenceslab/tsheehan/'\n",
    "task = 'CD_Task'\n",
    "s='/'\n",
    "sub_path = tim + task +s+subj+s\n",
    "# sessions = !ls {sub_path}\n",
    "# sessions = os.listdir(sub_path)\n",
    "sessions = np.sort(os.listdir(sub_path))\n",
    "NTR = 392\n",
    "TR_SHIFT = -16\n",
    "\n",
    "# Load data! \n",
    "DAT_THIS,INFO_ALL,TR_per_session = [],[],[]\n",
    "for sess in sessions:\n",
    "    if (sess[0]=='.') or (sess[:9]=='localizer'):\n",
    "        continue\n",
    "    #- go into each session and grab DAT_CD_TASK and INFO (if exists)\n",
    "    samp = sub_path + sess +'/SamplesSeg/'\n",
    "    try:\n",
    "        dat_path = samp + 'DAT_CD_Task.pickle'\n",
    "        info_path = samp + 'INFO_CD_Task.pickle'\n",
    "        this_dat = pd.read_pickle(dat_path) # nTR x nVox\n",
    "        this_info = pd.read_pickle(info_path)\n",
    "        TR_per_session.append(this_dat.V2.shape[0])\n",
    "        DAT_THIS.append(this_dat)\n",
    "        INFO_ALL.append(this_info)\n",
    "    except:\n",
    "        print('Failed, probably havent processed subj yet or they have weird structure eg. Localizer folder')\n",
    "        break\n",
    "\n",
    "n_sess = len(DAT_THIS)\n",
    "INFO_ALL = pd.concat(INFO_ALL,ignore_index=1)\n",
    "this_block = INFO_ALL[INFO_ALL.event=='start_trial'].block.values\n",
    "#     bad_block = np.isin(this_block,bad_sess)\n",
    "\n",
    "testY= np.vstack([DAT_THIS[i]['V1'] for i in range(n_sess)]) # just for verifying sizes, overwrite in roi loop\n",
    "print(len(this_block),testY.shape)\n",
    "\n",
    "#     INFO_ALL = INFO_ALL[~np.isin(INFO_ALL.block,bad_sess)]\n",
    "\n",
    "cumsumTR = np.cumsum(np.concatenate(([0],TR_per_session)))\n",
    "n_block = len(INFO_ALL.block.unique())\n",
    "nTR_total = cumsumTR[-1]\n",
    "nTrials = trialPerRun*n_block\n",
    "\n",
    "Xrun = np.zeros((len(INFO_ALL.block.unique()),nTR_total ))\n",
    "for i,s in enumerate(INFO_ALL.block.unique()):\n",
    "    Xrun[i,NTR*i:NTR*(i+1)]=1\n",
    "\n",
    "ori_stim = INFO_ALL[INFO_ALL.event=='start_trial'].d0.values+90\n",
    "d_ori = np.concatenate(([0]*nb,wrap(ori_stim[:-nb]-ori_stim[nb:])))\n",
    "weights_subj = {'ori':ori_stim,'d_ori':d_ori,'block':this_block}\n",
    "for ri, roi in enumerate(roi_want):\n",
    "    print(roi)\n",
    "    fits_this = HRF_FITS[roi]['fits']\n",
    "\n",
    "    these_vox_use = voxel_keep_roi[roi]\n",
    "    Y= np.vstack([DAT_THIS[i][roi] for i in range(n_sess)])[:,these_vox_use]\n",
    "    nTR,nVox = np.shape(Y)\n",
    "\n",
    "\n",
    "    # Build design matrix\n",
    "#         kernel_stim = fits_all[:,si,ri,0]\n",
    "#         kernel_probe = fits_all[:,si,ri,1]\n",
    "    kernel_stim = fits_this[:,0] # voxel x TR\n",
    "    kernel_probe = fits_this[:,1]\n",
    "    l_kernel = kernel_probe.shape[1]\n",
    "    bad_vox = np.any(np.isnan(kernel_stim),1) | np.any(np.isnan(kernel_probe),1)\n",
    "\n",
    "    stim_weights_reg,probe_weights_reg = np.zeros((nTrials,nVox))*np.nan,np.zeros((nTrials,nVox))*np.nan\n",
    "\n",
    "#         with Pool(5) as pl:\n",
    "#             out0 = pl.map(fit_mat_voxel,np.arange(nVox))\n",
    "\n",
    "    for vox in range(nVox):\n",
    "        print(vox,end=' ')\n",
    "#         fit_mat_voxel(0)\n",
    "        if bad_vox[vox]: continue\n",
    "        x_STIM,x_PROBE = np.zeros((nTrials,nTR_total)),np.zeros((nTrials,nTR_total))\n",
    "\n",
    "        for ind,block in enumerate(INFO_ALL.block.unique()):\n",
    "            these_ev = INFO_ALL.block==block\n",
    "            this_sess = int(INFO_ALL[these_ev].sess.values[0][-1])\n",
    "            TR_add_sess = cumsumTR[this_sess]\n",
    "            TR_add_block = ind*NTR\n",
    "            stim_ind,probe_ind = [],[]\n",
    "            block_ind = np.arange(TR_add_block,TR_add_block+NTR)\n",
    "            inds_stim,inds_probe=[],[]\n",
    "            for i in range(trialPerRun):\n",
    "                inds_stim.append(np.round(INFO_ALL[these_ev&(INFO_ALL.trial==i+1)&(INFO_ALL.event=='stim')].\n",
    "                                         TR.values[0]).astype(int)+TR_add_sess-TR_add_block+TR_SHIFT)\n",
    "                inds_probe.append(np.round(INFO_ALL[these_ev&(INFO_ALL.trial==i+1)&(INFO_ALL.event=='line')].\n",
    "                                         TR.values[0]).astype(int)+TR_add_sess-TR_add_block+TR_SHIFT)\n",
    "\n",
    "            x_sess,x_probe = np.zeros((trialPerRun,NTR)),np.zeros((trialPerRun,NTR))\n",
    "            for n in range(trialPerRun):\n",
    "                n_fit_stim = np.minimum(NTR-inds_stim[n],l_kernel)\n",
    "                n_fit_probe = np.minimum(NTR-inds_probe[n],l_kernel)\n",
    "                x_sess[n,inds_stim[n]:inds_stim[n]+n_fit_stim] = kernel_stim[vox,:n_fit_stim] \n",
    "                x_probe[n,inds_probe[n]:inds_probe[n]+n_fit_probe] = kernel_probe[vox,:n_fit_probe]\n",
    "\n",
    "            x_STIM[ind*trialPerRun:(ind+1)*trialPerRun,block_ind]  = x_sess\n",
    "            x_PROBE[ind*trialPerRun:(ind+1)*trialPerRun,block_ind]  = x_probe\n",
    "\n",
    "        X = np.vstack((x_STIM,x_PROBE,Xrun))\n",
    "\n",
    "        this_fit = LinearRegression().fit(X.T,Y[:,vox])\n",
    "        fit_coef = this_fit.coef_ # \n",
    "\n",
    "        stim_weights_reg[:,vox] = fit_coef[:nTrials]\n",
    "        probe_weights_reg[:,vox] = fit_coef[nTrials:nTrials*2]\n",
    "\n",
    "    weights_roi = {'stimW':stim_weights_reg,'probeW':probe_weights_reg,'selective_voxels':these_vox_use,'bad_vox':bad_vox}\n",
    "    weights_subj[roi] = weights_roi\n"
   ]
  },
  {
   "cell_type": "code",
   "execution_count": 13,
   "metadata": {},
   "outputs": [
    {
     "name": "stdout",
     "output_type": "stream",
     "text": [
      "circ_regression_tools.py\r\n",
      "DeconvolveTaskRespSubj-2Gamma.ipynb\r\n",
      "DeconvolveTaskRespSubj-2Gamma_single_cell.ipynb\r\n",
      "DeconvolveTaskRespSubj-2Gamma_single_cell_subject.ipynb\r\n",
      "DeconvSubj.py\r\n",
      "fit_IEM_v2.py\r\n",
      "__pycache__\r\n",
      "UCSD054_weights_singleVox_decov.npy\r\n",
      "untitled.txt\r\n"
     ]
    }
   ],
   "source": [
    "# save out\n",
    "fn_name = '../DataDeconvolution/Decsubj +'_weights_singleVox_decov.npy'\n",
    "np.save(fn_name,weights_subj)"
   ]
  },
  {
   "cell_type": "markdown",
   "metadata": {},
   "source": [
    "# Now lets repeat analysis but fitting single HRF for each ROI\n",
    "- This method is much quicker because GLM can be solved simultaneously rather than seperately for each voxel"
   ]
  },
  {
   "cell_type": "code",
   "execution_count": 15,
   "metadata": {},
   "outputs": [],
   "source": [
    "subjs = [54,60,61,62,63,64]\n",
    "subjs = ['UCSD0' + str(i) for i in subjs]\n",
    "n_subj = len(subjs)\n",
    "roi_want=['V1','V2','V3','hV4','V3AB','IPS0']\n",
    "nTRModel = 32"
   ]
  },
  {
   "cell_type": "code",
   "execution_count": 16,
   "metadata": {},
   "outputs": [
    {
     "name": "stderr",
     "output_type": "stream",
     "text": [
      "<ipython-input-16-ef4f4d1f2400>:2: DeprecationWarning: The default dtype for empty Series will be 'object' instead of 'float64' in a future version. Specify a dtype explicitly to silence this warning.\n",
      "  DAT_ALL = pd.Series()\n"
     ]
    },
    {
     "name": "stdout",
     "output_type": "stream",
     "text": [
      "UCSD054\n",
      "UCSD060\n",
      "UCSD061\n",
      "UCSD062\n",
      "UCSD063\n",
      "UCSD064\n"
     ]
    }
   ],
   "source": [
    "# get for \"selective voxels\"\n",
    "DAT_ALL = pd.Series()\n",
    "for subj in subjs:\n",
    "    print(subj)\n",
    "#     data_root = '/mnt/neurocube/local/serenceslab/tsheehan/CD_Task/Analysis/SignalProcessingSeg/'\n",
    "    data_root = '../EpochedData/'\n",
    "    data_file = data_root + subj +'_dat_wTimeFix.pickle'\n",
    "    this_dat = pd.read_pickle(data_file)\n",
    "    DAT_ALL[subj] = this_dat"
   ]
  },
  {
   "cell_type": "code",
   "execution_count": 4,
   "metadata": {},
   "outputs": [],
   "source": [
    "import fit_IEM_v2 as IEM\n",
    "def voxel_selection(samples,ev,params):\n",
    "    # samples (voxels x trials)\n",
    "    ind_all = np.arange(samples.shape[0])\n",
    "    # donut selection\n",
    "    donut_voxels = IEM.get_donut_mask(samples,ev,params['donut']) #minimun percentile\n",
    "    donut_trials = (ev.d1.values==1)\n",
    "    # anova selection\n",
    "    samples_donut = samples[donut_voxels,:]\n",
    "    samples_donut = samples_donut[:,donut_trials]\n",
    "    ind_all_donut=ind_all[donut_voxels]\n",
    "    \n",
    "    ori = ev[donut_trials].d0.values\n",
    "    ori_anova = np.round((ori-10)/2,-1)\n",
    "    f_stats= IEM.anova1(samples_donut,ori_anova)\n",
    "    n_keep = int(np.round(np.sum(donut_voxels)*params['anovaP']/100))\n",
    "    ind_keep = np.argsort(f_stats)[-n_keep:]\n",
    "    ind_all_both = ind_all_donut[ind_keep]\n",
    "#     print('%d -> %d voxels' %(samples.shape[0],len(ind_all_both)))\n",
    "    return ind_all_both, ind_all_donut"
   ]
  },
  {
   "cell_type": "code",
   "execution_count": 5,
   "metadata": {},
   "outputs": [],
   "source": [
    "def sem_plot(x,y,do_line=0,within_E=0,**args):\n",
    "    # x is assumed to be examples x len(y)\n",
    "    n_ex,n_points =  y.shape\n",
    "    assert n_points==len(x), 'x not correct shape'\n",
    "    m_y = np.mean(y,0)\n",
    "    if within_E:\n",
    "        y_use = (y.T-np.mean(y,1)).T\n",
    "        s_y = np.std(y_use,0)/np.sqrt(n_ex)\n",
    "    else:\n",
    "        s_y = np.std(y,0)/np.sqrt(n_ex)\n",
    "    plt.fill_between(x,m_y-s_y,m_y+s_y,**args)\n",
    "    if do_line:\n",
    "        plt.plot(x,m_y,**args)"
   ]
  },
  {
   "cell_type": "code",
   "execution_count": 20,
   "metadata": {
    "scrolled": false
   },
   "outputs": [
    {
     "name": "stderr",
     "output_type": "stream",
     "text": [
      "<ipython-input-20-d9d230486f9d>:1: DeprecationWarning: The default dtype for empty Series will be 'object' instead of 'float64' in a future version. Specify a dtype explicitly to silence this warning.\n",
      "  HRF = pd.Series()\n"
     ]
    },
    {
     "name": "stdout",
     "output_type": "stream",
     "text": [
      "UCSD054\n",
      "Loading Data...\n",
      "Generating Design Matrix...\n",
      "Fitting!\n",
      "UCSD060\n",
      "Loading Data...\n",
      "Generating Design Matrix...\n",
      "Fitting!\n",
      "UCSD061\n",
      "Loading Data...\n",
      "Generating Design Matrix...\n",
      "Fitting!\n",
      "UCSD062\n",
      "Loading Data...\n",
      "Generating Design Matrix...\n",
      "Fitting!\n",
      "UCSD063\n",
      "Loading Data...\n",
      "Generating Design Matrix...\n",
      "Fitting!\n",
      "UCSD064\n",
      "Loading Data...\n",
      "Generating Design Matrix...\n",
      "Fitting!\n"
     ]
    }
   ],
   "source": [
    "HRF = pd.Series()\n",
    "for subj in subjs:\n",
    "    print(subj)\n",
    "    HRF[subj] = DeconvSubj.deconvSubj(subj,roi_want,nTRModel)"
   ]
  },
  {
   "cell_type": "code",
   "execution_count": 21,
   "metadata": {},
   "outputs": [
    {
     "name": "stdout",
     "output_type": "stream",
     "text": [
      "UCSD054\n",
      "UCSD060\n",
      "UCSD061\n",
      "UCSD062\n",
      "UCSD063\n",
      "UCSD064\n"
     ]
    }
   ],
   "source": [
    "# get selective voxel indicies\n",
    "paramsT={'donut':50,'anovaP':75}\n",
    "subj = 'UCSD054'\n",
    "roi='V1'\n",
    "voxel_keep_all = {}\n",
    "for subj in subjs:\n",
    "    print(subj)\n",
    "    dat = DAT_ALL[subj]\n",
    "    ev_loc = dat.EV_LOC.copy()\n",
    "    donut_ev = ev_loc.d1.values==1\n",
    "    voxel_keep_roi = {}\n",
    "    for roi in roi_want:\n",
    "        dat_loc = dat['DAT_LOC'][roi]\n",
    "        vox_use,_ = voxel_selection(dat_loc,ev_loc,paramsT)\n",
    "        voxel_keep_roi[roi] = vox_use\n",
    "    voxel_keep_all[subj] = voxel_keep_roi"
   ]
  },
  {
   "cell_type": "code",
   "execution_count": 22,
   "metadata": {},
   "outputs": [],
   "source": [
    "HRF_all = np.zeros((nTRModel,n_subj,len(roi_want),2))\n",
    "HRF_sel = np.zeros((nTRModel,n_subj,len(roi_want),2))\n",
    "# HRF_sel_long = np.zeros((40,n_subj,len(roi_want),2))\n",
    "\n",
    "for si,subj in enumerate(subjs):\n",
    "    for ri,roi in enumerate(roi_want):\n",
    "        for feat_model in range(2): # stim, target\n",
    "            HRF_all[:,si,ri,feat_model] = np.mean(HRF[subj][feat_model][roi],1)\n",
    "            these_vox_use = voxel_keep_all[subj][roi]\n",
    "            HRF_sel[:,si,ri,feat_model] = np.mean(HRF[subj][feat_model][roi][:,these_vox_use],1)\n",
    "#             HRF_sel_long[:,si,ri,feat_model] = np.mean(HRF_long[subj][feat_model][roi][:,these_vox_use],1)\n",
    "avg_HRF_all = np.mean(HRF_all,1)\n",
    "avg_HRF_sel = np.mean(HRF_sel,1)\n"
   ]
  },
  {
   "cell_type": "markdown",
   "metadata": {},
   "source": [
    "# Visualize evoked HRFs x ROIs"
   ]
  },
  {
   "cell_type": "code",
   "execution_count": 23,
   "metadata": {},
   "outputs": [
    {
     "data": {
      "image/png": "[encoded data removed]",
      "text/plain": [
       "<Figure size 432x288 with 6 Axes>"
      ]
     },
     "metadata": {
      "needs_background": "light"
     },
     "output_type": "display_data"
    }
   ],
   "source": [
    "\n",
    "ri=5\n",
    "yl=(-.15,0.75)\n",
    "t = np.arange(0,nTRModel)\n",
    "for ri in range(6):\n",
    "    plt.subplot(2,3,ri+1)\n",
    "    plt.plot(t,avg_HRF_sel[:,ri,0],label='Stim')\n",
    "    plt.plot(t,avg_HRF_sel[:,ri,1],label='Probe')\n",
    "    plt.title(roi_want[ri])\n",
    "    plt.ylim(yl)\n",
    "    if ri!=0:\n",
    "        plt.yticks([])\n",
    "    plt.plot([0,28],[0,0],'k--')\n",
    "plt.legend()\n",
    "plt.tight_layout()\n",
    "plt.show()"
   ]
  },
  {
   "cell_type": "markdown",
   "metadata": {},
   "source": [
    "# Fit to ROIs"
   ]
  },
  {
   "cell_type": "code",
   "execution_count": 25,
   "metadata": {},
   "outputs": [],
   "source": [
    "t=np.arange(0,nTRModel)\n",
    "n_param = 6\n",
    "n_roi = len(roi_want)\n",
    "params_all = np.zeros((n_param,n_subj,n_roi,2))\n",
    "fits_all = np.zeros((nTRModel,n_subj,n_roi,2))\n",
    "rss_vals = np.zeros((n_subj,n_roi,2))\n",
    "for si,subj in enumerate(subjs):\n",
    "    for ri,roi in enumerate(roi_want):\n",
    "        for feat_model in range(2):\n",
    "            this_HRF = HRF_sel[:,si,ri,feat_model]\n",
    "            out = minimize(err_HRF,p,(this_HRF,))\n",
    "            params_all[:,si,ri,feat_model] = out.x\n",
    "            rss_vals[si,ri,feat_model] = out.fun\n",
    "            fits_all[:,si,ri,feat_model] = gamma2(out.x)"
   ]
  },
  {
   "cell_type": "code",
   "execution_count": 26,
   "metadata": {},
   "outputs": [
    {
     "name": "stdout",
     "output_type": "stream",
     "text": [
      "UCSD054\n",
      "901 (20776, 2116)\n",
      "V1\n",
      "V2\n",
      "V3\n",
      "hV4\n",
      "V3AB\n",
      "IPS0\n",
      "UCSD060\n",
      "884 (20384, 2943)\n",
      "V1\n",
      "V2\n",
      "V3\n",
      "hV4\n",
      "V3AB\n",
      "IPS0\n",
      "UCSD061\n",
      "816 (18816, 2652)\n",
      "V1\n",
      "V2\n",
      "V3\n",
      "hV4\n",
      "V3AB\n",
      "IPS0\n",
      "UCSD062\n",
      "816 (18816, 2790)\n",
      "V1\n",
      "V2\n",
      "V3\n",
      "hV4\n",
      "V3AB\n",
      "IPS0\n",
      "UCSD063\n",
      "765 (17640, 2641)\n",
      "V1\n",
      "V2\n",
      "V3\n",
      "hV4\n",
      "V3AB\n",
      "IPS0\n",
      "UCSD064\n",
      "884 (20384, 2782)\n",
      "V1\n",
      "V2\n",
      "V3\n",
      "hV4\n",
      "V3AB\n",
      "IPS0\n"
     ]
    }
   ],
   "source": [
    "# Fit to ROIs\n",
    "nb=1\n",
    "trialPerRun = 17\n",
    "weights_all = {}\n",
    "\n",
    "for si,subj in enumerate(subjs):\n",
    "    print(subj)\n",
    "\n",
    "    tim = '/mnt/neurocube/local/serenceslab/tsheehan/'\n",
    "    task = 'CD_Task'\n",
    "    s='/'\n",
    "    sub_path = tim + task +s+subj+s\n",
    "    sessions = !ls {sub_path}\n",
    "    NTR = 392\n",
    "    TR_SHIFT = -16\n",
    "\n",
    "    # Load data! \n",
    "    DAT_THIS,INFO_ALL,TR_per_session = [],[],[]\n",
    "    for sess in sessions:\n",
    "        if (sess[0]=='.') or (sess[:9]=='localizer'):\n",
    "            continue\n",
    "        #- go into each session and grab DAT_CD_TASK and INFO (if exists)\n",
    "        samp = sub_path + sess +'/SamplesSeg/'\n",
    "        try:\n",
    "            dat_path = samp + 'DAT_CD_Task.pickle'\n",
    "            info_path = samp + 'INFO_CD_Task.pickle'\n",
    "            this_dat = pd.read_pickle(dat_path) # nTR x nVox\n",
    "            this_info = pd.read_pickle(info_path)\n",
    "            TR_per_session.append(this_dat.V2.shape[0])\n",
    "            DAT_THIS.append(this_dat)\n",
    "            INFO_ALL.append(this_info)\n",
    "        except:\n",
    "            print('Failed, probably havent processed subj yet or they have weird structure eg. Localizer folder')\n",
    "            break\n",
    "            \n",
    "    n_sess = len(DAT_THIS)\n",
    "    INFO_ALL = pd.concat(INFO_ALL,ignore_index=1)\n",
    "    this_block = INFO_ALL[INFO_ALL.event=='start_trial'].block.values\n",
    "#     bad_block = np.isin(this_block,bad_sess)\n",
    "    \n",
    "    testY= np.vstack([DAT_THIS[i]['V1'] for i in range(n_sess)]) # just for verifying sizes, overwrite in roi loop\n",
    "    print(len(this_block),testY.shape)\n",
    "    \n",
    "#     INFO_ALL = INFO_ALL[~np.isin(INFO_ALL.block,bad_sess)]\n",
    "\n",
    "    cumsumTR = np.cumsum(np.concatenate(([0],TR_per_session)))\n",
    "    n_block = len(INFO_ALL.block.unique())\n",
    "    nTR_total = cumsumTR[-1]\n",
    "    nTrials = trialPerRun*n_block\n",
    "    \n",
    "    Xrun = np.zeros((len(INFO_ALL.block.unique()),nTR_total ))\n",
    "    for i,s in enumerate(INFO_ALL.block.unique()):\n",
    "        Xrun[i,NTR*i:NTR*(i+1)]=1\n",
    "        \n",
    "    ori_stim = INFO_ALL[INFO_ALL.event=='start_trial'].d0.values+90\n",
    "    d_ori = np.concatenate(([0]*nb,wrap(ori_stim[:-nb]-ori_stim[nb:])))\n",
    "    weights_subj = {'ori':ori_stim,'d_ori':d_ori,'block':this_block}\n",
    "    for ri, roi in enumerate(roi_want):\n",
    "        print(roi)\n",
    "\n",
    "        Y= np.vstack([DAT_THIS[i][roi] for i in range(n_sess)])\n",
    "        nTR,nVox = np.shape(Y)\n",
    "        \n",
    "        # Build design matrix\n",
    "        kernel_stim = fits_all[:,si,ri,0]\n",
    "        kernel_probe = fits_all[:,si,ri,1]\n",
    "        l_kernel = len(kernel_stim)\n",
    "\n",
    "        x_STIM,x_PROBE = np.zeros((nTrials,nTR_total)),np.zeros((nTrials,nTR_total))\n",
    "        for ind,block in enumerate(INFO_ALL.block.unique()):\n",
    "            these_ev = INFO_ALL.block==block\n",
    "            this_sess = int(INFO_ALL[these_ev].sess.values[0][-1])\n",
    "            TR_add_sess = cumsumTR[this_sess]\n",
    "            TR_add_block = ind*NTR\n",
    "            stim_ind,probe_ind = [],[]\n",
    "            block_ind = np.arange(TR_add_block,TR_add_block+NTR)\n",
    "            inds_stim,inds_probe=[],[]\n",
    "            for i in range(trialPerRun):\n",
    "                inds_stim.append(np.round(INFO_ALL[these_ev&(INFO_ALL.trial==i+1)&(INFO_ALL.event=='stim')].\n",
    "                                         TR.values[0]).astype(int)+TR_add_sess-TR_add_block+TR_SHIFT)\n",
    "                inds_probe.append(np.round(INFO_ALL[these_ev&(INFO_ALL.trial==i+1)&(INFO_ALL.event=='line')].\n",
    "                                         TR.values[0]).astype(int)+TR_add_sess-TR_add_block+TR_SHIFT)\n",
    "\n",
    "            x_sess,x_probe = np.zeros((trialPerRun,NTR)),np.zeros((trialPerRun,NTR))\n",
    "            for n in range(trialPerRun):\n",
    "                n_fit_stim = np.minimum(NTR-inds_stim[n],l_kernel)\n",
    "                n_fit_probe = np.minimum(NTR-inds_probe[n],l_kernel)\n",
    "                x_sess[n,inds_stim[n]:inds_stim[n]+n_fit_stim] = kernel_stim[:n_fit_stim] \n",
    "                x_probe[n,inds_probe[n]:inds_probe[n]+n_fit_probe] = kernel_probe[:n_fit_probe]\n",
    "\n",
    "            x_STIM[ind*trialPerRun:(ind+1)*trialPerRun,block_ind]  = x_sess\n",
    "            x_PROBE[ind*trialPerRun:(ind+1)*trialPerRun,block_ind]  = x_probe\n",
    "        X = np.vstack((x_STIM,x_PROBE,Xrun))\n",
    "\n",
    "        # Fit coefficients! \n",
    "        this_fit = LinearRegression().fit(X.T,Y)\n",
    "        fit_coef = this_fit.coef_ # \n",
    "        stim_weights_reg = fit_coef[:,:nTrials].T\n",
    "        probe_weights_reg = fit_coef[:,nTrials:nTrials*2].T\n",
    "\n",
    "        these_vox = voxel_keep_all[subj][roi]\n",
    "        weights_roi = {'stimW':stim_weights_reg,'probeW':probe_weights_reg,'selective_voxels':these_vox}\n",
    "        weights_subj[roi] = weights_roi\n",
    "\n",
    "    weights_all[subj] = weights_subj"
   ]
  },
  {
   "cell_type": "markdown",
   "metadata": {},
   "source": [
    "# Figure 3A"
   ]
  },
  {
   "cell_type": "code",
   "execution_count": 36,
   "metadata": {},
   "outputs": [
    {
     "data": {
      "image/png": "[encoded data removed]",
      "text/plain": [
       "<Figure size 432x288 with 1 Axes>"
      ]
     },
     "metadata": {
      "needs_background": "light"
     },
     "output_type": "display_data"
    }
   ],
   "source": [
    "cols = ['c','r']\n",
    "t_vis=np.arange(0,nTRModel)\n",
    "ri=0\n",
    "t_short = t_vis*.8\n",
    "short_mode = 1\n",
    "if short_mode:\n",
    "    HRF_use = HRF_sel\n",
    "    t_use = t_short\n",
    "else:\n",
    "    HRF_use = HRF_sel_long\n",
    "    t_use=t_long\n",
    "    \n",
    "t_cross = np.zeros((n_subj,2))*np.nan\n",
    "ind_offset = 15\n",
    "\n",
    "for feat_model in range(2):\n",
    "    plt.plot(t_use,np.mean(HRF_use[:,:,ri,feat_model],1),linewidth=4,color=cols[feat_model],label=['Stim','Probe'][feat_model])\n",
    "    plt.plot(t_vis*.8,np.mean(fits_all[:,:,ri,feat_model],1),'--',linewidth=2,color='k')\n",
    "# plt.plot(t_cross[:,0],np.ones(n_subj)*.1,'cs',markersize=5,label='End of Undershoot')\n",
    "\n",
    "plt.legend()\n",
    "plt.xlabel('Time (s)')\n",
    "plt.ylabel('Amplitude (z)')\n",
    "plt.title('Avg Deconvolved HRF %s' %roi_want[ri])\n",
    "plt.xlim(0,np.max(t_use))\n",
    "plt.plot([0,np.max(t_use)],[0,0],'k-')\n",
    "plt.show()\n"
   ]
  },
  {
   "cell_type": "markdown",
   "metadata": {},
   "source": [
    "# save out!"
   ]
  },
  {
   "cell_type": "code",
   "execution_count": 34,
   "metadata": {},
   "outputs": [],
   "source": [
    "import pandas as pd\n",
    "weights_all_series = pd.Series(weights_all)\n",
    "# weights_all_series.to_pickle('../DataDeconvolution/weights_deconvolve_2Gamma_v3.pickle')"
   ]
  }
 ],
 "metadata": {
  "kernelspec": {
   "display_name": "Python 3",
   "language": "python",
   "name": "python3"
  },
  "language_info": {
   "codemirror_mode": {
    "name": "ipython",
    "version": 3
   },
   "file_extension": ".py",
   "mimetype": "text/x-python",
   "name": "python",
   "nbconvert_exporter": "python",
   "pygments_lexer": "ipython3",
   "version": "3.8.5"
  }
 },
 "nbformat": 4,
 "nbformat_minor": 2
}
